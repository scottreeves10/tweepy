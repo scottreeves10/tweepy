{
 "cells": [
  {
   "cell_type": "markdown",
   "metadata": {},
   "source": [
    "## References\n",
    "\n",
    "#### Twitter Data Mining: A Guide to Big Data Analytics Using Python, Anthony Sistilli\n",
    "- https://www.toptal.com/python/twitter-data-mining-using-python\n",
    "\n",
    "#### Mining Twitter Data with Python (Part 1: Collecting data), Marco Bonzanini\n",
    "- https://marcobonzanini.com/2015/03/02/mining-twitter-data-with-python-part-1/\n",
    "\n",
    "#### Tweepy Documentation, v3.6.0\n",
    "- http://tweepy.readthedocs.io/en/v3.6.0/index.html\n",
    "- API Reference http://tweepy.readthedocs.io/en/v3.6.0/api.html#api-reference\n",
    "\n",
    "#### Twitter Developer Docs\n",
    "- https://developer.twitter.com/en/docs\n",
    "- Search Tweets (Guides) https://developer.twitter.com/en/docs/tweets/search/guides/standard-operators\n",
    "- Search Tweets (API Reference) https://developer.twitter.com/en/docs/tweets/search/api-reference/get-search-tweets\n",
    "- Introduction to Tweet JSON https://developer.twitter.com/en/docs/tweets/data-dictionary/overview/intro-to-tweet-json\n",
    "- Tweet Objects https://developer.twitter.com/en/docs/tweets/data-dictionary/overview/tweet-object\n",
    "\n",
    "#### How to use Twitter’s Search REST API most effectively., Bhaskar Karambelkar\n",
    "- https://www.karambelkar.info/2015/01/how-to-use-twitters-search-rest-api-most-effectively./\n",
    "\n",
    "#### stackoverflow\n",
    "- Questions tagged [tweepy] https://stackoverflow.com/questions/tagged/tweepy\n",
    "- -filter:retweets https://stackoverflow.com/questions/38872195/tweepy-exclude-retweets"
   ]
  },
  {
   "cell_type": "markdown",
   "metadata": {},
   "source": [
    "## Load Packages"
   ]
  },
  {
   "cell_type": "code",
   "execution_count": 1,
   "metadata": {
    "collapsed": true
   },
   "outputs": [],
   "source": [
    "import numpy as np\n",
    "import pandas as pd\n",
    "import tweepy"
   ]
  },
  {
   "cell_type": "code",
   "execution_count": 14,
   "metadata": {
    "collapsed": true
   },
   "outputs": [],
   "source": [
    "import json"
   ]
  },
  {
   "cell_type": "markdown",
   "metadata": {},
   "source": [
    "## Assign Authentication Keys, Tokens and Secrets"
   ]
  },
  {
   "cell_type": "code",
   "execution_count": 2,
   "metadata": {
    "collapsed": true
   },
   "outputs": [],
   "source": [
    "import config\n",
    "\n",
    "consumer_key = config.twitter_anidata_consumer_key\n",
    "consumer_secret = config.twitter_anidata_consumer_secret\n",
    "access_token = config.twitter_anidata_access_token\n",
    "access_token_secret = config.twitter_anidata_access_token_secret"
   ]
  },
  {
   "cell_type": "markdown",
   "metadata": {},
   "source": [
    "## Create API Object"
   ]
  },
  {
   "cell_type": "code",
   "execution_count": 3,
   "metadata": {
    "collapsed": true
   },
   "outputs": [],
   "source": [
    "# Creating the authentication object\n",
    "auth = tweepy.OAuthHandler(consumer_key, consumer_secret)\n",
    "# Setting access token and secret\n",
    "auth.set_access_token(access_token, access_token_secret)\n",
    "# Creating the API object while passing in auth information\n",
    "api = tweepy.API(auth) "
   ]
  },
  {
   "cell_type": "markdown",
   "metadata": {},
   "source": [
    "## About API Arguments\n",
    "\n",
    "http://tweepy.readthedocs.io/en/v3.6.0/api.html#api-reference\n",
    "\n",
    "API.search(q[, lang][, locale][, rpp][, page][, since_id][, geocode][, show_user])\n",
    "Returns tweets that match a specified query.\n",
    "\n",
    "Parameters:\t\n",
    "- q – the search query string\n",
    "- lang – Restricts tweets to the given language, given by an ISO 639-1 code.\n",
    "- locale – Specify the language of the query you are sending. This is intended for language-specific clients and the default should work in the majority of cases.\n",
    "- rpp – The number of tweets to return per page, up to a max of 100.\n",
    "- page – The page number (starting at 1) to return, up to a max of roughly 1500 results (based on rpp * page.\n",
    "- since_id – Returns only statuses with an ID greater than (that is, more recent than) the specified ID.\n",
    "- geocode – Returns tweets by users located within a given radius of the given latitude/longitude. The location is preferentially taking from the Geotagging API, but will fall back to their Twitter profile. The parameter value is specified by “latitide,longitude,radius”, where radius units must be specified as either “mi” (miles) or “km” (kilometers). Note that you cannot use the near operator via the API to geocode arbitrary locations; however you can use this geocode parameter to search near geocodes directly.\n",
    "- show_user – When true, prepends “<user>:” to the beginning of the tweet. This is useful for readers that do not display Atom’s author field. The default is false.\n",
    "\n",
    "Return type:\tlist of SearchResults objects"
   ]
  },
  {
   "cell_type": "markdown",
   "metadata": {},
   "source": [
    "## Scrape and Explore"
   ]
  },
  {
   "cell_type": "markdown",
   "metadata": {},
   "source": [
    "### About Rate Limiting\n",
    "\n",
    "https://developer.twitter.com/en/docs/basics/rate-limiting\n",
    "\n",
    "Standard API endpoints only, does not apply to premium APIs\n",
    "\n",
    "#### Per User or Per Application\n",
    "Rate limiting of the standard API is primarily on a per-user basis — or more accurately described, per user access token. If a method allows for 15 requests per rate limit window, then it allows 15 requests per window per access token.\n",
    "\n",
    "When using application-only authentication, rate limits are determined globally for the entire application. If a method allows for 15 requests per rate limit window, then it allows you to make 15 requests per window — on behalf of your application. This limit is considered completely separately from per-user limits.\n",
    "\n",
    "#### 15 Minute Windows\n",
    "Rate limits are divided into 15 minute intervals. All endpoints require authentication, so there is no concept of unauthenticated calls and rate limits.\n",
    "\n",
    "There are two initial buckets available for GET requests: 15 calls every 15 minutes, and 180 calls every 15 minutes.\n",
    "\n",
    "### How to use Twitter’s Search REST API most effectively., Bhaskar Karambelkar\n",
    "https://www.karambelkar.info/2015/01/how-to-use-twitters-search-rest-api-most-effectively./\n",
    "\n"
   ]
  },
  {
   "cell_type": "markdown",
   "metadata": {},
   "source": [
    "### Assign API Argument Values"
   ]
  },
  {
   "cell_type": "code",
   "execution_count": 17,
   "metadata": {
    "collapsed": true
   },
   "outputs": [],
   "source": [
    "# The search term you want to find\n",
    "query = '#atlbraves -filter:retweets'\n",
    "# Language code (follows ISO 639-1 standards)\n",
    "language = \"en\"\n",
    "count = 100"
   ]
  },
  {
   "cell_type": "markdown",
   "metadata": {},
   "source": [
    "### Search Twitter"
   ]
  },
  {
   "cell_type": "code",
   "execution_count": 18,
   "metadata": {
    "collapsed": true
   },
   "outputs": [],
   "source": [
    "results = api.search(q=query, lang=language, count=count, tweet_mode='extended')"
   ]
  },
  {
   "cell_type": "code",
   "execution_count": 19,
   "metadata": {},
   "outputs": [
    {
     "name": "stdout",
     "output_type": "stream",
     "text": [
      "CrYsTaL-YBs Fan YES @Braves  win 8-5 Great Job #ATLBraves https://t.co/nMzlQbJ2KM\n",
      "DiamondsandDaisies Back from the break tonight #atlbraves #atl #atlantabraves #bravesbaseball #booty #braves #chopon https://t.co/znWiIExOdh\n",
      "Sadarius R Wright @Braves all star cap is a must have!!! #atlbraves\n",
      "William Ellison Worst time of the year, the sports slump!  No (meaningful) games for two months!  That said, LETS GO BRAVES!! #ATLBraves\n",
      "Cardsmiths Breaks Hank Aaron Gold Framed Autograph #2/3 from 2018 @topps Definitive Baseball! #csbheat #topps #definitive #definitivebaseball #hankaaron #henryaaron #atlbraves #atlantabraves #braves #baseballcards #groupbreaks https://t.co/E9F470z0eV https://t.co/wYpzwOv52C\n",
      "Emily I will be so happy if anyone but Harper wins tonight....PLEASE #HRDerby #Chopon #ATLBraves\n",
      "Ben Cerutti Just in case it happens: Friend of mine just said she heard rumors of Moose to Atlanta is happening. #kcroyals #atlbraves\n",
      "RJ Owens Regrann from @ehubb15  -  Had to before it's too late🤣🙌🏾 •\n",
      "#inmyfeelings #inmyfeelingschallenge #scorpion #drake #atlbraves @braves #challenge\n",
      ".\n",
      ".\n",
      ".\n",
      "@theshiggster @theshaderoom\n",
      "@agt… https://t.co/uC9zQevje6\n",
      "RJ Owens \"Regrann from @ehubb15  -  Had to before it's too late🤣🙌🏾 •\n",
      "#inmyfeelings #inmyfeelingschallenge #scorpion #drake #atlbraves @braves #challenge @theshiggster @theshaderoom… https://t.co/VpKbb0etWC\n",
      "Jordan👻 BONUS VLOG! 10 Years Together and Braves Game #Vlog #Braves #ATLBraves #Anniversary https://t.co/kpVtU5CDwc\n",
      "Gillman Insurance Problem Solvers ⚾BRAVES GIVEAWAY! ⚾ sponsored by Gillman Insurance Problem Solvers - Click for details on how to enter! https://t.co/1SAOY8wHyp\n",
      "\n",
      "#ATLbraves #GOBravos #SuntrustPark https://t.co/oNd0q9xFXi\n",
      "Chris Justice At my first Braves game in the new Sun Trust Park.  Let’s go Braves!!\n",
      "\n",
      "#braves #bravesgame #bravescountry #bravesbaseball #atlanta #atlantabraves #atlbraves #atlbravesgame #atl @ Atlanta… https://t.co/WeFmvDIyrv\n",
      "Mark Mathis UT Night at Sun Trust Bank Park #vfl #bestwifeever #atlbraves #datenight lolopittman https://t.co/a6bwjKHiUk\n"
     ]
    }
   ],
   "source": [
    "for tweet in results:\n",
    "   # printing the text stored inside the tweet object\n",
    "   print(tweet.user.name, tweet.full_text)"
   ]
  },
  {
   "cell_type": "code",
   "execution_count": 20,
   "metadata": {
    "collapsed": true
   },
   "outputs": [],
   "source": [
    "df = pd.DataFrame({\"text\": [x.full_text for x in results],\n",
    "                   \"name\": [x.user.name for x in results]},\n",
    "                   index = [x.id_str for x in results])\n"
   ]
  },
  {
   "cell_type": "code",
   "execution_count": 21,
   "metadata": {
    "collapsed": true
   },
   "outputs": [],
   "source": [
    "df.index.name = \"tweet_id\""
   ]
  },
  {
   "cell_type": "code",
   "execution_count": 22,
   "metadata": {
    "scrolled": true
   },
   "outputs": [
    {
     "data": {
      "text/html": [
       "<div>\n",
       "<style>\n",
       "    .dataframe thead tr:only-child th {\n",
       "        text-align: right;\n",
       "    }\n",
       "\n",
       "    .dataframe thead th {\n",
       "        text-align: left;\n",
       "    }\n",
       "\n",
       "    .dataframe tbody tr th {\n",
       "        vertical-align: top;\n",
       "    }\n",
       "</style>\n",
       "<table border=\"1\" class=\"dataframe\">\n",
       "  <thead>\n",
       "    <tr style=\"text-align: right;\">\n",
       "      <th></th>\n",
       "      <th>name</th>\n",
       "      <th>text</th>\n",
       "    </tr>\n",
       "    <tr>\n",
       "      <th>tweet_id</th>\n",
       "      <th></th>\n",
       "      <th></th>\n",
       "    </tr>\n",
       "  </thead>\n",
       "  <tbody>\n",
       "    <tr>\n",
       "      <th>1020490644479979522</th>\n",
       "      <td>CrYsTaL-YBs Fan</td>\n",
       "      <td>YES @Braves  win 8-5 Great Job #ATLBraves http...</td>\n",
       "    </tr>\n",
       "    <tr>\n",
       "      <th>1020396397361688576</th>\n",
       "      <td>DiamondsandDaisies</td>\n",
       "      <td>Back from the break tonight #atlbraves #atl #a...</td>\n",
       "    </tr>\n",
       "    <tr>\n",
       "      <th>1019362613594148864</th>\n",
       "      <td>Sadarius R Wright</td>\n",
       "      <td>@Braves all star cap is a must have!!! #atlbraves</td>\n",
       "    </tr>\n",
       "    <tr>\n",
       "      <th>1019184055882051584</th>\n",
       "      <td>William Ellison</td>\n",
       "      <td>Worst time of the year, the sports slump!  No ...</td>\n",
       "    </tr>\n",
       "    <tr>\n",
       "      <th>1019022276128378880</th>\n",
       "      <td>Cardsmiths Breaks</td>\n",
       "      <td>Hank Aaron Gold Framed Autograph #2/3 from 201...</td>\n",
       "    </tr>\n",
       "    <tr>\n",
       "      <th>1018987229425922052</th>\n",
       "      <td>Emily</td>\n",
       "      <td>I will be so happy if anyone but Harper wins t...</td>\n",
       "    </tr>\n",
       "    <tr>\n",
       "      <th>1018698434562416640</th>\n",
       "      <td>Ben Cerutti</td>\n",
       "      <td>Just in case it happens: Friend of mine just s...</td>\n",
       "    </tr>\n",
       "    <tr>\n",
       "      <th>1018010357426741248</th>\n",
       "      <td>RJ Owens</td>\n",
       "      <td>Regrann from @ehubb15  -  Had to before it's t...</td>\n",
       "    </tr>\n",
       "    <tr>\n",
       "      <th>1018006277752909824</th>\n",
       "      <td>RJ Owens</td>\n",
       "      <td>\"Regrann from @ehubb15  -  Had to before it's ...</td>\n",
       "    </tr>\n",
       "    <tr>\n",
       "      <th>1017535600428281857</th>\n",
       "      <td>Jordan👻</td>\n",
       "      <td>BONUS VLOG! 10 Years Together and Braves Game ...</td>\n",
       "    </tr>\n",
       "    <tr>\n",
       "      <th>1017490682859188229</th>\n",
       "      <td>Gillman Insurance Problem Solvers</td>\n",
       "      <td>⚾BRAVES GIVEAWAY! ⚾ sponsored by Gillman Insur...</td>\n",
       "    </tr>\n",
       "    <tr>\n",
       "      <th>1017213633372327936</th>\n",
       "      <td>Chris Justice</td>\n",
       "      <td>At my first Braves game in the new Sun Trust P...</td>\n",
       "    </tr>\n",
       "    <tr>\n",
       "      <th>1017193457624977408</th>\n",
       "      <td>Mark Mathis</td>\n",
       "      <td>UT Night at Sun Trust Bank Park #vfl #bestwife...</td>\n",
       "    </tr>\n",
       "  </tbody>\n",
       "</table>\n",
       "</div>"
      ],
      "text/plain": [
       "                                                  name  \\\n",
       "tweet_id                                                 \n",
       "1020490644479979522                    CrYsTaL-YBs Fan   \n",
       "1020396397361688576                 DiamondsandDaisies   \n",
       "1019362613594148864                  Sadarius R Wright   \n",
       "1019184055882051584                    William Ellison   \n",
       "1019022276128378880                  Cardsmiths Breaks   \n",
       "1018987229425922052                              Emily   \n",
       "1018698434562416640                        Ben Cerutti   \n",
       "1018010357426741248                           RJ Owens   \n",
       "1018006277752909824                           RJ Owens   \n",
       "1017535600428281857                            Jordan👻   \n",
       "1017490682859188229  Gillman Insurance Problem Solvers   \n",
       "1017213633372327936                      Chris Justice   \n",
       "1017193457624977408                        Mark Mathis   \n",
       "\n",
       "                                                                  text  \n",
       "tweet_id                                                                \n",
       "1020490644479979522  YES @Braves  win 8-5 Great Job #ATLBraves http...  \n",
       "1020396397361688576  Back from the break tonight #atlbraves #atl #a...  \n",
       "1019362613594148864  @Braves all star cap is a must have!!! #atlbraves  \n",
       "1019184055882051584  Worst time of the year, the sports slump!  No ...  \n",
       "1019022276128378880  Hank Aaron Gold Framed Autograph #2/3 from 201...  \n",
       "1018987229425922052  I will be so happy if anyone but Harper wins t...  \n",
       "1018698434562416640  Just in case it happens: Friend of mine just s...  \n",
       "1018010357426741248  Regrann from @ehubb15  -  Had to before it's t...  \n",
       "1018006277752909824  \"Regrann from @ehubb15  -  Had to before it's ...  \n",
       "1017535600428281857  BONUS VLOG! 10 Years Together and Braves Game ...  \n",
       "1017490682859188229  ⚾BRAVES GIVEAWAY! ⚾ sponsored by Gillman Insur...  \n",
       "1017213633372327936  At my first Braves game in the new Sun Trust P...  \n",
       "1017193457624977408  UT Night at Sun Trust Bank Park #vfl #bestwife...  "
      ]
     },
     "execution_count": 22,
     "metadata": {},
     "output_type": "execute_result"
    }
   ],
   "source": [
    "df"
   ]
  },
  {
   "cell_type": "code",
   "execution_count": 23,
   "metadata": {},
   "outputs": [
    {
     "data": {
      "text/plain": [
       "13"
      ]
     },
     "execution_count": 23,
     "metadata": {},
     "output_type": "execute_result"
    }
   ],
   "source": [
    "len(results)"
   ]
  },
  {
   "cell_type": "code",
   "execution_count": 115,
   "metadata": {
    "collapsed": true
   },
   "outputs": [],
   "source": [
    "df.to_csv(\"anidata_twitter.csv\")"
   ]
  },
  {
   "cell_type": "code",
   "execution_count": null,
   "metadata": {
    "collapsed": true
   },
   "outputs": [],
   "source": []
  }
 ],
 "metadata": {
  "kernelspec": {
   "display_name": "Python 3",
   "language": "python",
   "name": "python3"
  },
  "language_info": {
   "codemirror_mode": {
    "name": "ipython",
    "version": 3
   },
   "file_extension": ".py",
   "mimetype": "text/x-python",
   "name": "python",
   "nbconvert_exporter": "python",
   "pygments_lexer": "ipython3",
   "version": "3.6.6"
  }
 },
 "nbformat": 4,
 "nbformat_minor": 2
}
