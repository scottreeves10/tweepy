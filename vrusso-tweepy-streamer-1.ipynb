{
 "cells": [
  {
   "cell_type": "markdown",
   "metadata": {},
   "source": [
    "#  References\n",
    "\n",
    "Twitter API with Python: Part 1 -- Streaming Live Tweets, LucidProgramming\n",
    "- https://www.youtube.com/watch?v=wlnx-7cm4Gg \n",
    "\n",
    "Twitter API with Python: Part 2 -- Cursor and Pagination  \n",
    "- https://www.youtube.com/watch?v=rhBZqEWsZU4&list=PL5tcWHG-UPH2zBfOz40HSzcGUPAVOOnu1\n",
    "\n",
    "Tweepy\n",
    "- http://www.tweepy.org/\n",
    "- http://docs.tweepy.org/en/v3.6.0/\n",
    "- http://tweepy.readthedocs.io/en/v3.6.0/index.html\n"
   ]
  },
  {
   "cell_type": "code",
   "execution_count": null,
   "metadata": {
    "collapsed": true
   },
   "outputs": [],
   "source": [
    "from tweepy import API\n",
    "from tweepy import Cursor\n",
    "from tweepy.streaming import StreamListener\n",
    "from tweepy import OAuthHandler\n",
    "from tweepy import Stream"
   ]
  },
  {
   "cell_type": "code",
   "execution_count": null,
   "metadata": {
    "collapsed": true
   },
   "outputs": [],
   "source": [
    "import config #located in same folder\n",
    "\n",
    "consumer_key = config.twitter_anidata_consumer_key\n",
    "consumer_secret = config.twitter_anidata_consumer_secret\n",
    "access_token = config.twitter_anidata_access_token\n",
    "access_token_secret = config.twitter_anidata_access_token_secret"
   ]
  },
  {
   "cell_type": "code",
   "execution_count": null,
   "metadata": {
    "collapsed": true
   },
   "outputs": [],
   "source": [
    "# Create a class to print the tweets\n",
    "\n",
    "\n",
    "class TwitterAuthenticator():\n",
    "    '''\n",
    "    Class for authenticating Twitter app\n",
    "    '''\n",
    "    \n",
    "    def authenticate_twitter_app(self):\n",
    "        auth = OAuthHandler(consumer_key, consumer_secret)        # Create the authentication object\n",
    "        auth.set_access_token(access_token, access_token_secret)  # Set access token and secret\n",
    "        return auth      \n",
    "\n",
    "    \n",
    "class TwitterStreamer():\n",
    "    \n",
    "    \"\"\"\n",
    "    Class for streaming and processing live tweets\n",
    "    \"\"\"\n",
    "    \n",
    "    def __init__(self):\n",
    "        self.twitter_authenticator = TwitterAuthenticator()\n",
    "    \n",
    "    def stream_tweets(self, fetched_tweets_filename, search_terms):\n",
    "        #This handles twitter authentication and the connection to the twitter streaming API\n",
    "        \n",
    "        listener = TwitterListener(fetched_tweets_filename) # Create and object of class TwitterListener\n",
    "        auth = self.twitter_authenticator.authenticate_twitter_app()\n",
    "        stream = Stream(auth, listener)\n",
    "        \n",
    "        # filter the tweets using filter method provided by stream class\n",
    "        stream.filter(track=search_terms)\n",
    "        \n",
    "        \n",
    "\n",
    "class TwitterListener(StreamListener): # inherit from TwitterStreamer class which provides methods we can override\n",
    "\n",
    "    def __init__(self, fetched_tweets_filename): #constructor\n",
    "        self.fetched_tweets_filename = fetched_tweets_filename\n",
    "    \n",
    "    def on_data(self, data):    # take in the data from the StreamListener, then we can do whatever we want with that data\n",
    "        try:\n",
    "            print(data)\n",
    "            with open(self.fetched_tweets_filename, 'a') as tf:\n",
    "                tf.write(data)\n",
    "            return True             # return True to make sure everything went well\n",
    "        except BaseException as e:\n",
    "            print(\"Error on_data: %s\" % str(e))\n",
    "        return True  \n",
    "    \n",
    "    def on_error(self, status):\n",
    "        if status == 420:\n",
    "            # Returning False on_data method in case rate limit occurs.\n",
    "            return False\n",
    "        print(status)\n",
    "        \n",
    "\n"
   ]
  },
  {
   "cell_type": "code",
   "execution_count": null,
   "metadata": {},
   "outputs": [],
   "source": [
    "if __name__ == \"__main__\":\n",
    "    \n",
    "    # Define search terms\n",
    "    search_terms = ['#atlanta', '-filter:retweets']\n",
    "    \n",
    "    # Define output file name\n",
    "    fetched_tweets_filename = \"tweets.json\"\n",
    "    \n",
    "    # Define TwitterStreamer object\n",
    "    twitter_streamer = TwitterStreamer()\n",
    "    \n",
    "    twitter_streamer.stream_tweets(fetched_tweets_filename, search_terms)\n",
    "    \n",
    "    "
   ]
  },
  {
   "cell_type": "code",
   "execution_count": null,
   "metadata": {
    "collapsed": true
   },
   "outputs": [],
   "source": []
  }
 ],
 "metadata": {
  "kernelspec": {
   "display_name": "Python 3",
   "language": "python",
   "name": "python3"
  },
  "language_info": {
   "codemirror_mode": {
    "name": "ipython",
    "version": 3
   },
   "file_extension": ".py",
   "mimetype": "text/x-python",
   "name": "python",
   "nbconvert_exporter": "python",
   "pygments_lexer": "ipython3",
   "version": "3.6.6"
  }
 },
 "nbformat": 4,
 "nbformat_minor": 2
}
