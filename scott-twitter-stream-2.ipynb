{
 "cells": [
  {
   "cell_type": "markdown",
   "metadata": {},
   "source": [
    "# References\n",
    "\n",
    "## [Tweepy Documentation v3.6.0](http://docs.tweepy.org/en/v3.6.0/index.html)\n",
    "\n",
    "- [Streaming With Tweepy](http://docs.tweepy.org/en/v3.6.0/streaming_how_to.html)\n",
    "\n",
    "The Twitter streaming API is used to download twitter messages in real time. It is useful for obtaining a high volume of tweets, or for creating a live feed using a site stream or user stream. See the [Twitter Streaming API Documentation](https://developer.twitter.com/en/docs/tweets/filter-realtime/overview).\n",
    "\n",
    "The streaming api is quite different from the REST api because the REST api is used to pull data from twitter but the streaming api pushes messages to a persistent session. This allows the streaming api to download more data in real time than could be done using the REST API.\n",
    "\n",
    "In Tweepy, an instance of **tweepy.Stream** establishes a streaming session and routes messages to **StreamListener** instance. The **on_data** method of a stream listener receives all messages and calls functions according to the message type. The default **StreamListener** can classify most common twitter messages and routes them to appropriately named methods, but these methods are only stubs.\n",
    "\n",
    "Therefore using the streaming api has three steps.\n",
    "\n",
    "1. Create a class inheriting from StreamListener\n",
    "2. Using that class create a Stream object\n",
    "3. Connect to the Twitter API using the Stream.\n",
    "\n",
    "## [Twitter Developer platform Docs](https://developer.twitter.com/en/docs)\n",
    "\n",
    "Twitter’s developer platform offers several tools and APIs. Twitter’s basic REST and Streaming APIs enable free access to numerous endpoints. \n",
    "\n",
    "The data provided by Twitter APIs are made up of data objects and their attributes rendered in JavaScript Object Notation (JSON). **To learn more about Tweet metadata, see this** [introduction to Tweet JSON objects](https://developer.twitter.com/en/docs/tweets/data-dictionary/overview/intro-to-tweet-json).\n",
    "\n",
    "The following documentation provide 'data dictionaries' to help you understand the many attributes that make up Twitter Tweets, Users and other objects.\n",
    "\n",
    "Tweet object\n",
    "Tweets are the basic atomic building block of all things Twitter. [Click here](https://developer.twitter.com/en/docs/tweets/data-dictionary/overview/tweet-object) **to learn more about the Tweet object and its data fields**.\n",
    "\n",
    "User object\n",
    "The user object contains public Twitter account metadata and describes the author of the Tweet. Click here to learn more.\n",
    "\n",
    "Twitter entities \n",
    "The entities object encompasses common Tweet elements such hashtags, urls, mentions, and even polls. [Click here](https://developer.twitter.com/en/docs/tweets/data-dictionary/overview/entities-object) to learn more. \n",
    "\n",
    "Twitter extended entities\n",
    "The extended entities is the go-to object for working with native Twitter media. Native media includes the types of media you can 'attach' while composing a Tweet. This includes up to four photos, or a single video or single animated GIF. Click here to learn more.\n",
    "\n",
    "Geospatial objects\n",
    "When posting Tweets, users have the option to geotag their Tweet with an exact location or a Twitter Place. User accounts can also have geospatial metadata associated with them. [Click here](https://developer.twitter.com/en/docs/tweets/data-dictionary/overview/geo-objects) to learn more.\n",
    "\n",
    "## GitHub\n",
    "\n",
    "### Tweepy\n",
    "\n",
    "[tweepy/tweepy/streaming.py](https://github.com/tweepy/tweepy/blob/78d2883a922fa5232e8cdfab0c272c24b8ce37c4/tweepy/streaming.py)  \n",
    "\n",
    "[tweepy/examples/streaming.py](https://github.com/tweepy/tweepy/blob/78d2883a922fa5232e8cdfab0c272c24b8ce37c4/examples/streaming.py)\n",
    "\n",
    "## Stack Overflow\n",
    "\n",
    "[What is the difference between on_data and on_status in the tweepy library?](https://stackoverflow.com/questions/31054656/what-is-the-difference-between-on-data-and-on-status-in-the-tweepy-library)\n",
    "`on_data()` handles: replies to statuses, deletes, events, direct messages, friends, limits, disconnects and warnings\n",
    "whereas, `on_status()` just handles statuses. \n",
    "\n",
    "If you're only concerned with tweets, use `on_status()`. This will give you what you needed without the added information and doing so will not hinder your limit. If you want detailed information use `on_data()`. That's rarely the case unless you're doing heavy analysis."
   ]
  },
  {
   "cell_type": "code",
   "execution_count": null,
   "metadata": {
    "collapsed": true
   },
   "outputs": [],
   "source": [
    "import tweepy\n",
    "import csv"
   ]
  },
  {
   "cell_type": "code",
   "execution_count": null,
   "metadata": {
    "collapsed": true
   },
   "outputs": [],
   "source": [
    "# assign consumer and access variables imported from config.py\n",
    "import config\n",
    "\n",
    "consumer_key = config.twitter_anidata_consumer_key\n",
    "consumer_secret = config.twitter_anidata_consumer_secret\n",
    "access_token = config.twitter_anidata_access_token\n",
    "access_token_secret = config.twitter_anidata_access_token_secret\n",
    "\n",
    "# create an OAuthHandler instance\n",
    "auth = tweepy.OAuthHandler(consumer_key, consumer_secret)\n",
    "auth.set_access_token(access_token, access_token_secret)\n",
    "api = tweepy.API(auth) "
   ]
  },
  {
   "cell_type": "code",
   "execution_count": null,
   "metadata": {
    "collapsed": true
   },
   "outputs": [],
   "source": [
    "class TwitterAuthenticator():\n",
    "    '''\n",
    "    Class for authenticating Twitter app. \n",
    "    \n",
    "    The consumer and access variables must have been previously assigned elsewhere.\n",
    "    '''\n",
    "    \n",
    "    def authenticate_twitter_app(self):\n",
    "        auth = OAuthHandler(consumer_key, consumer_secret)        # Create the authentication object\n",
    "        auth.set_access_token(access_token, access_token_secret)  # Set access token and secret\n",
    "        return auth\n",
    "    \n",
    "\n",
    "    \n",
    "class TwitterListenerToFile(tweepy.StreamListener):\n",
    "    '''\n",
    "    Class for listening to a Twitter stream and routing output to a file, \n",
    "    inheriting from Tweepy's StreamListener and overriding on_status.\n",
    "    A listener handles tweets are the received from the stream. \n",
    "    The on_data method of Tweepy’s StreamListener conveniently passes data \n",
    "    from statuses to the on_status method.\n",
    "    \n",
    "    This class listens to the stream and routs the data to a file.\n",
    "    '''\n",
    "    # constructor\n",
    "    \n",
    "    def __init__(self, fetched_tweets_filename): \n",
    "        self.fetched_tweets_filename = fetched_tweets_filename\n",
    "    \n",
    "    #override tweepy.StreamListener to add logic to on_status\n",
    "    \n",
    "    def on_status(self, status):    \n",
    "        try:\n",
    "            print(status)\n",
    "            with open(self.fetched_tweets_filename, 'a') as tf:\n",
    "                tf.write(status)\n",
    "            return True             # return True to make sure everything went well\n",
    "        except BaseException as e:\n",
    "            print(\"Error on_data: %s\" % str(e))\n",
    "        return True  \n",
    "    \n",
    "    def on_error(self, status):\n",
    "        if status == 420:\n",
    "            # Returning False on_data method in case rate limit occurs.\n",
    "            return False\n",
    "        print(status)\n",
    "    \n",
    "    \n",
    "class TwitterStreamer():\n",
    "    \n",
    "    \"\"\"\n",
    "    Class for streaming live tweets.\n",
    "    \n",
    "    A number of twitter streams are available through Tweepy. Most cases will use filter, the user_stream, or the sitestream. \n",
    "    \"\"\"\n",
    "    \n",
    "    def __init__(self):\n",
    "        self.twitter_authenticator = TwitterAuthenticator()\n",
    "    \n",
    "    def stream_tweets(self, fetched_tweets_filename, search_terms):\n",
    "        #This handles twitter authentication and the connection to the twitter streaming API\n",
    "        \n",
    "        listener = TwitterListener(fetched_tweets_filename) # Create and object of class TwitterListener\n",
    "        auth = self.twitter_authenticator.authenticate_twitter_app()\n",
    "        stream = Stream(auth, listener)\n",
    "        \n",
    "        # filter the tweets using filter method provided by stream class\n",
    "        stream.filter(track=search_terms)\n",
    "        \n",
    "        \n"
   ]
  },
  {
   "cell_type": "code",
   "execution_count": null,
   "metadata": {
    "collapsed": true
   },
   "outputs": [],
   "source": [
    "if __name__ == \"__main__\":\n",
    "    \n",
    "    # Define search terms\n",
    "    search_terms = ['atlanta', 'social good']\n",
    "    \n",
    "    # Define output file name\n",
    "    fetched_tweets_filename = \"tweets.json\"\n",
    "    \n",
    "    # Define TwitterStreamer object\n",
    "    twitter_streamer = TwitterStreamer()\n",
    "    \n",
    "    twitter_streamer.stream_tweets(fetched_tweets_filename, search_terms)\n",
    "    "
   ]
  },
  {
   "cell_type": "markdown",
   "metadata": {},
   "source": [
    "# Capture the Stream"
   ]
  },
  {
   "cell_type": "markdown",
   "metadata": {},
   "source": [
    "Note: It appears that `if not hasattr(status, 'retweeted_status'):` is a more accurate way of filtering out retweets than `if status.retweeted == False:`. It would be preferrable to determine this explictly, rather than emperically. Empirically, using the latter seemed to include some suspected retweets in the results. Specifically there was a popular retweeet involving Tom Brady's super bowl history which kept creeping in with the latter, but not the former. \n",
    "\n",
    "Also note, with regard to the former, that merely using `if not status.retweeted_status` generates an error when the `retweeted_status` attibute does not exist. "
   ]
  },
  {
   "cell_type": "code",
   "execution_count": null,
   "metadata": {
    "collapsed": true
   },
   "outputs": [],
   "source": [
    "### Create a StreamListener ###\n",
    "\n",
    "# override tweepy.StreamListener to add logic to on_status\n",
    "\n",
    "class MyStreamListener(tweepy.StreamListener):\n",
    "\n",
    "    def on_status(self, status):\n",
    "        # https://developer.twitter.com/en/docs/tweets/data-dictionary/overview/tweet-object\n",
    "        #if status.retweeted == False:\n",
    "            #print(\"retweeted = \", status.retweeted, \": \", status.user.screen_name, \": \", status.text)\n",
    "        \n",
    "        #https://stackoverflow.com/questions/610883/how-to-know-if-an-object-has-an-attribute-in-python\n",
    "        if not hasattr(status, 'retweeted_status'):\n",
    "            print(\"retweeted = \", status.retweeted, \": \", status.user.screen_name, \": \", status.text)\n",
    "            \n",
    "        \n",
    "    def on_error(self, status_code):\n",
    "        if status_code == 420:\n",
    "            #returning False in on_error disconnects the stream\n",
    "            return False\n",
    "\n",
    "        # returning non-False reconnects the stream, with backoff.\n",
    "        \n",
    "# Create a Stream object of class MyStreamListener\n",
    "\n",
    "myStreamListener = MyStreamListener()\n",
    "myStream = tweepy.Stream(auth = api.auth, listener=myStreamListener, lang='en')\n",
    "\n",
    "# Start a Stream\n",
    "\n",
    "myStream.filter(track=['atlanta'])"
   ]
  },
  {
   "cell_type": "markdown",
   "metadata": {},
   "source": [
    "# Store the Data"
   ]
  }
 ],
 "metadata": {
  "kernelspec": {
   "display_name": "Python 3",
   "language": "python",
   "name": "python3"
  },
  "language_info": {
   "codemirror_mode": {
    "name": "ipython",
    "version": 3
   },
   "file_extension": ".py",
   "mimetype": "text/x-python",
   "name": "python",
   "nbconvert_exporter": "python",
   "pygments_lexer": "ipython3",
   "version": "3.6.6"
  }
 },
 "nbformat": 4,
 "nbformat_minor": 2
}
