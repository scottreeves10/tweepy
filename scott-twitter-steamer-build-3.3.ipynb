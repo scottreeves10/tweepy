{
 "cells": [
  {
   "cell_type": "code",
   "execution_count": 6,
   "metadata": {
    "collapsed": true
   },
   "outputs": [],
   "source": [
    "from tweepy import API\n",
    "from tweepy import OAuthHandler\n",
    "from tweepy import Stream\n",
    "from tweepy import StreamListener\n",
    "import pandas as pd\n",
    "import numpy as np"
   ]
  },
  {
   "cell_type": "code",
   "execution_count": 7,
   "metadata": {
    "collapsed": true
   },
   "outputs": [],
   "source": [
    "import config # config.py contains values for consumer and access variables\n",
    "consumer_key = config.twitter_anidata_consumer_key\n",
    "consumer_secret = config.twitter_anidata_consumer_secret\n",
    "access_token = config.twitter_anidata_access_token\n",
    "access_token_secret = config.twitter_anidata_access_token_secret"
   ]
  },
  {
   "cell_type": "code",
   "execution_count": 8,
   "metadata": {
    "collapsed": true
   },
   "outputs": [],
   "source": [
    "auth = OAuthHandler(consumer_key, consumer_secret) #create the authentication object\n",
    "auth.set_access_token(access_token, access_token_secret) #set access token and secret\n",
    "api = API(auth) #create an API object"
   ]
  },
  {
   "cell_type": "code",
   "execution_count": 25,
   "metadata": {
    "collapsed": true
   },
   "outputs": [],
   "source": [
    "col_names = ['id_str', 'user_name', 'text']\n",
    "\n",
    "df_tweets = pd.DataFrame(columns = col_names)"
   ]
  },
  {
   "cell_type": "code",
   "execution_count": 45,
   "metadata": {
    "collapsed": true
   },
   "outputs": [],
   "source": [
    "#create streamlistener class inherited from tweepy in order to use and override its on_status method\n",
    "\n",
    "class cl_StreamListener(StreamListener): \n",
    "    \n",
    "    def __init__(self, api = None):\n",
    "        self.api = api or API()\n",
    "        self.counter = 0\n",
    "        #self.stream = Stream(auth, listener=self)\n",
    "        \n",
    "    def disconnect(self): \n",
    "        self.stream.disconnect()\n",
    "       \n",
    "    def on_status(self, status):\n",
    "        \n",
    "        if self.counter < 10:\n",
    "            \n",
    "            status.text = status.text.replace('\\n', ' ')\n",
    "            print(self.counter, \". \", status.text)\n",
    "            new_status = pd.DataFrame({'id_str' : [status.id_str],\n",
    "                         'user_name' : [status.user.name],\n",
    "                         'text': [status.text]\n",
    "                         })\n",
    "            #print(new_status)\n",
    "            df_tweets.append(new_status, ignore_index=True)\n",
    "            print(df_tweets)\n",
    "            self.counter +=1\n",
    "            \n",
    "        else:\n",
    "            #self.__stream.disconnect()            \n",
    "            #\n",
    "            return False"
   ]
  },
  {
   "cell_type": "code",
   "execution_count": 46,
   "metadata": {
    "collapsed": true
   },
   "outputs": [],
   "source": [
    "#create a stream. we need an api to stream.\n",
    "#Once we have an api and a status listener we can create our stream object.\n",
    "\n",
    "twitterStreamListener = cl_StreamListener()\n",
    "twitterStream = Stream(auth=api.auth, listener=twitterStreamListener)"
   ]
  },
  {
   "cell_type": "code",
   "execution_count": 47,
   "metadata": {},
   "outputs": [
    {
     "name": "stdout",
     "output_type": "stream",
     "text": [
      "0 .  RT @bigbankshaud: Traffic bad af right around that corner https://t.co/MCUAoDKHfZ\n",
      "Empty DataFrame\n",
      "Columns: [id_str, user_name, text]\n",
      "Index: []\n",
      "1 .  RT @RyanAFournier: Last time a Republican was Mayor in the following cities:  Atlanta - 1879 Chicago - 1931 Baltimore - 1967 Detroit - 1962…\n",
      "Empty DataFrame\n",
      "Columns: [id_str, user_name, text]\n",
      "Index: []\n",
      "2 .  RT @bigbankshaud: Traffic bad af right around that corner https://t.co/MCUAoDKHfZ\n",
      "Empty DataFrame\n",
      "Columns: [id_str, user_name, text]\n",
      "Index: []\n",
      "3 .  RT @bigbankshaud: Traffic bad af right around that corner https://t.co/MCUAoDKHfZ\n",
      "Empty DataFrame\n",
      "Columns: [id_str, user_name, text]\n",
      "Index: []\n",
      "4 .  Baez needs more time to heal. Might take the rest of the season honestly https://t.co/55A2HiLX3e\n",
      "Empty DataFrame\n",
      "Columns: [id_str, user_name, text]\n",
      "Index: []\n",
      "5 .  Full of medication &amp; I wouldn’t Change It I Was Once Broke Bt No Complainin!! #FreeCapo #LLLM 🚀 #SwitchGears🏎💨💨💨 @… https://t.co/V1PvU3CQtB\n",
      "Empty DataFrame\n",
      "Columns: [id_str, user_name, text]\n",
      "Index: []\n",
      "6 .  RT @ChrisRiley__: Tonight we were able to formalize a sister airport operation agreement with Shanghai Airport Authority and Atlanta Hartsf…\n",
      "Empty DataFrame\n",
      "Columns: [id_str, user_name, text]\n",
      "Index: []\n",
      "7 .  RT @Mopsci: F/A for DH Atlanta and I have about 2,500 points. This will be my 4th major lan and so I'm looking at serious offers only. Any…\n",
      "Empty DataFrame\n",
      "Columns: [id_str, user_name, text]\n",
      "Index: []\n",
      "8 .  #Atlanta get ready for @VishalDadlani &amp; @ShekharRavjiani as they bring the #SwagTour to your city!  #VishalDadlani… https://t.co/qenkp9xm6g\n",
      "Empty DataFrame\n",
      "Columns: [id_str, user_name, text]\n",
      "Index: []\n",
      "9 .  RT @ATLMusicPlug: Atlanta's @Gaten_netag was always known to keep it solid! He don't do any cappin like these other rappers, he really is t…\n",
      "Empty DataFrame\n",
      "Columns: [id_str, user_name, text]\n",
      "Index: []\n"
     ]
    }
   ],
   "source": [
    "#use the filter stream available through Tweepy (others include sitestream and user_stream)\n",
    "query_terms=['atlanta']\n",
    "twitterStream.filter(track=query_terms) #the track parameter is an array of search terms to stream."
   ]
  },
  {
   "cell_type": "code",
   "execution_count": 24,
   "metadata": {},
   "outputs": [
    {
     "data": {
      "text/html": [
       "<div>\n",
       "<style>\n",
       "    .dataframe thead tr:only-child th {\n",
       "        text-align: right;\n",
       "    }\n",
       "\n",
       "    .dataframe thead th {\n",
       "        text-align: left;\n",
       "    }\n",
       "\n",
       "    .dataframe tbody tr th {\n",
       "        vertical-align: top;\n",
       "    }\n",
       "</style>\n",
       "<table border=\"1\" class=\"dataframe\">\n",
       "  <thead>\n",
       "    <tr style=\"text-align: right;\">\n",
       "      <th></th>\n",
       "      <th>id_str</th>\n",
       "      <th>user_name</th>\n",
       "      <th>text</th>\n",
       "    </tr>\n",
       "  </thead>\n",
       "  <tbody>\n",
       "  </tbody>\n",
       "</table>\n",
       "</div>"
      ],
      "text/plain": [
       "Empty DataFrame\n",
       "Columns: [id_str, user_name, text]\n",
       "Index: []"
      ]
     },
     "execution_count": 24,
     "metadata": {},
     "output_type": "execute_result"
    }
   ],
   "source": [
    "df_tweets"
   ]
  }
 ],
 "metadata": {
  "kernelspec": {
   "display_name": "Python 3",
   "language": "python",
   "name": "python3"
  },
  "language_info": {
   "codemirror_mode": {
    "name": "ipython",
    "version": 3
   },
   "file_extension": ".py",
   "mimetype": "text/x-python",
   "name": "python",
   "nbconvert_exporter": "python",
   "pygments_lexer": "ipython3",
   "version": "3.6.6"
  }
 },
 "nbformat": 4,
 "nbformat_minor": 2
}
