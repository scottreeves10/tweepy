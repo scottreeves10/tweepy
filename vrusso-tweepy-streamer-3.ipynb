{
 "cells": [
  {
   "cell_type": "markdown",
   "metadata": {},
   "source": [
    "#  References\n",
    "\n",
    "Twitter API with Python: Part 1 -- Streaming Live Tweets, LucidProgramming\n",
    "- https://www.youtube.com/watch?v=wlnx-7cm4Gg \n",
    "\n",
    "Twitter API with Python: Part 2 -- Cursor and Pagination  \n",
    "- https://www.youtube.com/watch?v=rhBZqEWsZU4&list=PL5tcWHG-UPH2zBfOz40HSzcGUPAVOOnu1\n",
    "\n",
    "Tweepy\n",
    "- http://www.tweepy.org/\n",
    "- http://docs.tweepy.org/en/v3.6.0/\n",
    "- http://tweepy.readthedocs.io/en/v3.6.0/index.html\n"
   ]
  },
  {
   "cell_type": "code",
   "execution_count": null,
   "metadata": {
    "collapsed": true
   },
   "outputs": [],
   "source": [
    "from tweepy import API\n",
    "from tweepy import Cursor\n",
    "from tweepy.streaming import StreamListener\n",
    "from tweepy import OAuthHandler\n",
    "from tweepy import Stream\n",
    "import csv"
   ]
  },
  {
   "cell_type": "code",
   "execution_count": null,
   "metadata": {
    "collapsed": true
   },
   "outputs": [],
   "source": [
    "import config #located in same folder\n",
    "\n",
    "consumer_key = config.twitter_anidata_consumer_key\n",
    "consumer_secret = config.twitter_anidata_consumer_secret\n",
    "access_token = config.twitter_anidata_access_token\n",
    "access_token_secret = config.twitter_anidata_access_token_secret"
   ]
  },
  {
   "cell_type": "code",
   "execution_count": null,
   "metadata": {
    "collapsed": true
   },
   "outputs": [],
   "source": [
    "# Create a class to harvest tweets\n",
    "\n",
    "class TwitterClient():\n",
    "    \n",
    "    def __init__(self, twitter_user=None):\n",
    "        self.auth = TwitterAuthenticator().authenticate_twitter_app()\n",
    "        self.twitter_client = API(self.auth) #API is imported from tweepy\n",
    "        \n",
    "        self.twitter_user = twitter_user\n",
    "        \n",
    "    def get_user_timeline_tweets(self, num_tweets):\n",
    "        tweets = []\n",
    "        for tweet in Cursor(self.twitter_client.user_timeline, id=self.twitter_user).items(num_tweets):\n",
    "            tweets.append(tweet)\n",
    "        return tweets\n",
    "    \n",
    "    def get_friend_list(self, num_friends):\n",
    "        friend_list = []\n",
    "        for friend in Cursor(self.twitter_client.friends, id=self.twitter_user).items(num_friends):\n",
    "            friend_list.append(friend)\n",
    "        return friend_list\n",
    "\n",
    "    def get_home_timeline_tweets(self, num_tweets):\n",
    "        home_timeline_tweets = []\n",
    "        for tweet in Cursor(self.twitter_client.home_timeline, id=self.twitter_user).items(num_tweets):\n",
    "            home_timeline_tweets.append(tweet)\n",
    "        return home_timeline_tweets\n",
    "        \n",
    "\n",
    "class TwitterAuthenticator():\n",
    "    '''\n",
    "    Class for authenticating Twitter app\n",
    "    '''\n",
    "    \n",
    "    def authenticate_twitter_app(self):\n",
    "        auth = OAuthHandler(consumer_key, consumer_secret)        # Create the authentication object\n",
    "        auth.set_access_token(access_token, access_token_secret)  # Set access token and secret\n",
    "        return auth      \n",
    "\n",
    "    \n",
    "class TwitterStreamer():\n",
    "    \n",
    "    \"\"\"\n",
    "    Class for streaming and processing live tweets\n",
    "    \"\"\"\n",
    "    \n",
    "    def __init__(self):\n",
    "        self.twitter_authenticator = TwitterAuthenticator()\n",
    "    \n",
    "    def stream_tweets(self, fetched_tweets_filename, search_terms):\n",
    "        #This handles twitter authentication and the connection to the twitter streaming API\n",
    "        \n",
    "        listener = TwitterListener(fetched_tweets_filename) # Create and object of class TwitterListener\n",
    "        auth = self.twitter_authenticator.authenticate_twitter_app()\n",
    "        stream = Stream(auth, listener)\n",
    "        \n",
    "        # filter the tweets using filter method provided by stream class\n",
    "        stream.filter(track=search_terms)\n",
    "        \n",
    "        \n",
    "\n",
    "class TwitterListener(StreamListener): # inherit from TwitterStreamer class which provides methods we can override\n",
    "\n",
    "    def __init__(self, fetched_tweets_filename): #constructor\n",
    "        self.fetched_tweets_filename = fetched_tweets_filename\n",
    "    \n",
    "    def on_data(self, data):    # take in the data from the StreamListener, then we can do whatever we want with that data\n",
    "        try:\n",
    "            print(data)\n",
    "            with open(self.fetched_tweets_filename, 'a') as tf:\n",
    "                tf.write(data)\n",
    "            return True             # return True to make sure everything went well\n",
    "        except BaseException as e:\n",
    "            print(\"Error on_data: %s\" % str(e))\n",
    "        return True  \n",
    "    \n",
    "    def on_error(self, status):\n",
    "        if status == 420:\n",
    "            # Returning False on_data method in case rate limit occurs.\n",
    "            return False\n",
    "        print(status)\n",
    "        \n",
    "\n"
   ]
  },
  {
   "cell_type": "code",
   "execution_count": null,
   "metadata": {},
   "outputs": [],
   "source": [
    "if __name__ == \"__main__\":\n",
    "    \n",
    "    # Define search terms\n",
    "    search_terms = ['#atlanta', '-filter:retweets']\n",
    "    \n",
    "    # Define output file name\n",
    "    fetched_tweets_filename = \"tweets.json\"\n",
    "    \n",
    "    # Define number of tweets to collect\n",
    "    # number_of_tweets_to_return = 1\n",
    "    \n",
    "    # Optionally define a twitter user other than the application owner (owner's timeline)\n",
    "    # If left empty, default to None and uses the application owner's timeline\n",
    "    # twitter_user = 'Ella__Dorsey'\n",
    "    \n",
    "    # Define TwitterStreamer object\n",
    "    twitter_streamer = TwitterStreamer()\n",
    "    \n",
    "    twitter_streamer.stream_tweets(fetched_tweets_filename, search_terms)\n",
    "    \n",
    "    #twitter_client = TwitterClient(twitter_user)\n",
    "    #print(twitter_client.get_user_timeline_tweets(number_of_tweets_to_return))\n",
    "    "
   ]
  },
  {
   "cell_type": "code",
   "execution_count": null,
   "metadata": {
    "collapsed": true
   },
   "outputs": [],
   "source": []
  }
 ],
 "metadata": {
  "kernelspec": {
   "display_name": "Python 3",
   "language": "python",
   "name": "python3"
  },
  "language_info": {
   "codemirror_mode": {
    "name": "ipython",
    "version": 3
   },
   "file_extension": ".py",
   "mimetype": "text/x-python",
   "name": "python",
   "nbconvert_exporter": "python",
   "pygments_lexer": "ipython3",
   "version": "3.6.6"
  }
 },
 "nbformat": 4,
 "nbformat_minor": 2
}
