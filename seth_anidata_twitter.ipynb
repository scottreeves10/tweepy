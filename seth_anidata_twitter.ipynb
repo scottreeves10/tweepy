{
 "cells": [
  {
   "cell_type": "code",
   "execution_count": 38,
   "metadata": {
    "collapsed": true
   },
   "outputs": [],
   "source": [
    "import numpy as np\n",
    "import pandas as pd\n",
    "import tweepy\n",
    "consumer_key = \"\"\n",
    "consumer_secret = \"\"\n",
    "access_token = \"\"\n",
    "access_token_secret = \"\""
   ]
  },
  {
   "cell_type": "code",
   "execution_count": 2,
   "metadata": {
    "collapsed": true
   },
   "outputs": [],
   "source": [
    "# Creating the authentication object\n",
    "auth = tweepy.OAuthHandler(consumer_key, consumer_secret)\n",
    "# Setting your access token and secret\n",
    "auth.set_access_token(access_token, access_token_secret)\n",
    "# Creating the API object while passing in auth information\n",
    "api = tweepy.API(auth) "
   ]
  },
  {
   "cell_type": "code",
   "execution_count": 36,
   "metadata": {},
   "outputs": [
    {
     "name": "stdout",
     "output_type": "stream",
     "text": [
      "Kvng_Kasanovaa Tweeted: RT @africanarchives: First black police officers hired by the Atlanta Police Dept. in 1948, due to segregation laws, could not carry guns o…\n",
      "abcvision Tweeted: Artist lonnieholleysuniverse atlantahistorycenter #atlanta @ Margaret Mitchell House https://t.co/9eVb2UefYn\n",
      "meowlkia Tweeted: RT @Jennifer__Brett: A metro Atlanta mom bought a vintage projector at Goodwill, not realizing until later it was full of the most amazing…\n",
      "Easternhunneyyy Tweeted: RT @Jennifer__Brett: A metro Atlanta mom bought a vintage projector at Goodwill, not realizing until later it was full of the most amazing…\n",
      "wsbtv Tweeted: An entire house full of marijuana! It was among 17 homes raided today in this huge drug and gun operation around At… https://t.co/xuChlrWeUc\n",
      "rtsjr1967 Tweeted: Earning #cryptocurrency for selling my stuff on @Listia! Join me using code \"BMGVTW\" for an extra 25 XNK. I just li… https://t.co/sDN5FPmtAL\n",
      "TheDonCoogi Tweeted: @NonlucidDreams @RissaMari She should’ve encouraged you to come to Atlanta\n",
      "ResistARMY Tweeted: @NRA @NRATV You're as crooked as we thought you were. Nice work Traitors. #NewYorkCity #NewYork #LosAngeles… https://t.co/bVR6YH33id\n",
      "Bowthack Tweeted: RT @DougRobersonAJC: #PRO admits missed penalty in #ATLUTD vs. Seattle https://t.co/Ysfd8srazD #MLS\n",
      "_Bmore_ Tweeted: #RPfromMeLOL: Y do everybody keep askin me where I been? Nicca im still here n hot ass Atlanta! Lol n I don’t post… https://t.co/HmYO66FFSz\n",
      "BBOAtlanta Tweeted: RT @TerriRenaes3: List your Atlanta business for free! Let’s support! https://t.co/yZZx4bBi2X\n",
      "Crunk_Inc Tweeted: #PKInTheMorning  #NowPlaying  #np  #BB20 #Music #Dance #Hiphop #Models #Hair #BTSARMY  #Power #Scorpion… https://t.co/8xOPuUlLJG\n",
      "Youngnrich_jr Tweeted: RT @africanarchives: First black police officers hired by the Atlanta Police Dept. in 1948, due to segregation laws, could not carry guns o…\n",
      "dollylovesMJ Tweeted: RT @LoveHipHopVH1: Now that Sierra knows BK hooked up with Joy...should she still be his best friend? \n",
      "\n",
      "Having #LHHATL withdrawals? Catch u…\n",
      "Toniann561 Tweeted: RT @emilyslist: Almost exactly one year ago, @LucyWins2018 was attending our #RunToWin training in Atlanta. Today, she's running for office…\n"
     ]
    }
   ],
   "source": [
    "# The search term you want to find\n",
    "queries = \"atlanta OR atl OR georgia OR #atlanta OR #atl OR #georgia\"\n",
    "# Language code (follows ISO 639-1 standards)\n",
    "language = \"en\"\n",
    "\n",
    "# Calling the user_timeline function with our parameters\n",
    "# results = api.search(q=query, lang=language, count=5)\n",
    "\n",
    "# foreach through all tweets pulled\n",
    "#for query in queries:\n",
    "results = api.search(q=query, lang=language)\n",
    "for tweet in results:\n",
    "   # printing the text stored inside the tweet object\n",
    "   print(tweet.user.screen_name,\"Tweeted:\",tweet.text)"
   ]
  },
  {
   "cell_type": "code",
   "execution_count": 39,
   "metadata": {},
   "outputs": [
    {
     "data": {
      "text/plain": [
       "15"
      ]
     },
     "execution_count": 39,
     "metadata": {},
     "output_type": "execute_result"
    }
   ],
   "source": [
    "len(results)"
   ]
  },
  {
   "cell_type": "code",
   "execution_count": 53,
   "metadata": {
    "collapsed": true
   },
   "outputs": [],
   "source": [
    "df = pd.DataFrame({\"text\": [x.text for x in results]}, \n",
    "                   index =[x.id for x in results])\n",
    "df.index.name = \"ID\"\n",
    "df.to_csv(\"anidata_twitter.csv\")"
   ]
  },
  {
   "cell_type": "code",
   "execution_count": 44,
   "metadata": {
    "collapsed": true
   },
   "outputs": [],
   "source": []
  },
  {
   "cell_type": "code",
   "execution_count": 46,
   "metadata": {
    "collapsed": true
   },
   "outputs": [],
   "source": []
  },
  {
   "cell_type": "code",
   "execution_count": null,
   "metadata": {
    "collapsed": true
   },
   "outputs": [],
   "source": []
  },
  {
   "cell_type": "code",
   "execution_count": null,
   "metadata": {
    "collapsed": true
   },
   "outputs": [],
   "source": []
  },
  {
   "cell_type": "code",
   "execution_count": null,
   "metadata": {
    "collapsed": true
   },
   "outputs": [],
   "source": []
  }
 ],
 "metadata": {
  "kernelspec": {
   "display_name": "Python 3",
   "language": "python",
   "name": "python3"
  },
  "language_info": {
   "codemirror_mode": {
    "name": "ipython",
    "version": 3
   },
   "file_extension": ".py",
   "mimetype": "text/x-python",
   "name": "python",
   "nbconvert_exporter": "python",
   "pygments_lexer": "ipython3",
   "version": "3.6.6"
  }
 },
 "nbformat": 4,
 "nbformat_minor": 2
}
