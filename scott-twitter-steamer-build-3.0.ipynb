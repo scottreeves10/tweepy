{
 "cells": [
  {
   "cell_type": "code",
   "execution_count": null,
   "metadata": {
    "collapsed": true
   },
   "outputs": [],
   "source": [
    "from tweepy import API\n",
    "from tweepy import OAuthHandler\n",
    "from tweepy import Stream\n",
    "from tweepy import StreamListener"
   ]
  },
  {
   "cell_type": "code",
   "execution_count": null,
   "metadata": {
    "collapsed": true
   },
   "outputs": [],
   "source": [
    "import config # config.py contains values for consumer and access variables\n",
    "consumer_key = config.twitter_anidata_consumer_key\n",
    "consumer_secret = config.twitter_anidata_consumer_secret\n",
    "access_token = config.twitter_anidata_access_token\n",
    "access_token_secret = config.twitter_anidata_access_token_secret"
   ]
  },
  {
   "cell_type": "code",
   "execution_count": null,
   "metadata": {},
   "outputs": [],
   "source": [
    "auth = OAuthHandler(consumer_key, consumer_secret) #create the authentication object\n",
    "auth.set_access_token(access_token, access_token_secret) #set access token and secret\n",
    "api = API(auth) #create an API object"
   ]
  },
  {
   "cell_type": "code",
   "execution_count": null,
   "metadata": {
    "collapsed": true
   },
   "outputs": [],
   "source": [
    "#create streamlistener class inherited from tweepy in order to use and override its on_status method\n",
    "\n",
    "class cl_StreamListener(StreamListener): \n",
    "       \n",
    "    def on_status(self, status):\n",
    "        status.text = status.text.replace('\\n', ' ')\n",
    "        print(status.text)"
   ]
  },
  {
   "cell_type": "code",
   "execution_count": null,
   "metadata": {},
   "outputs": [],
   "source": [
    "#create a stream. we need an api to stream.\n",
    "#Once we have an api and a status listener we can create our stream object.\n",
    "\n",
    "twitterStreamListener = cl_StreamListener()\n",
    "twitterStream = Stream(auth=api.auth, listener=twitterStreamListener)"
   ]
  },
  {
   "cell_type": "code",
   "execution_count": null,
   "metadata": {},
   "outputs": [],
   "source": [
    "#use the filter stream available through Tweepy (others include sitestream and user_stream)\n",
    "query_terms=['atlanta']\n",
    "twitterStream.filter(track=query_terms) #the track parameter is an array of search terms to stream."
   ]
  },
  {
   "cell_type": "code",
   "execution_count": null,
   "metadata": {
    "collapsed": true
   },
   "outputs": [],
   "source": []
  }
 ],
 "metadata": {
  "kernelspec": {
   "display_name": "Python 3",
   "language": "python",
   "name": "python3"
  },
  "language_info": {
   "codemirror_mode": {
    "name": "ipython",
    "version": 3
   },
   "file_extension": ".py",
   "mimetype": "text/x-python",
   "name": "python",
   "nbconvert_exporter": "python",
   "pygments_lexer": "ipython3",
   "version": "3.6.6"
  }
 },
 "nbformat": 4,
 "nbformat_minor": 2
}
