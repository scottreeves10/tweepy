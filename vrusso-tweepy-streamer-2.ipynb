{
 "cells": [
  {
   "cell_type": "markdown",
   "metadata": {},
   "source": [
    "#  References\n",
    "\n",
    "Twitter API with Python: Part 1 -- Streaming Live Tweets, LucidProgramming\n",
    "- https://www.youtube.com/watch?v=wlnx-7cm4Gg \n",
    "\n",
    "Twitter API with Python: Part 2 -- Cursor and Pagination  \n",
    "- https://www.youtube.com/watch?v=rhBZqEWsZU4&list=PL5tcWHG-UPH2zBfOz40HSzcGUPAVOOnu1\n",
    "\n",
    "Tweepy\n",
    "- http://www.tweepy.org/\n",
    "- http://docs.tweepy.org/en/v3.6.0/\n",
    "- http://tweepy.readthedocs.io/en/v3.6.0/index.html\n"
   ]
  },
  {
   "cell_type": "code",
   "execution_count": 1,
   "metadata": {
    "collapsed": true
   },
   "outputs": [],
   "source": [
    "from tweepy import API\n",
    "from tweepy import Cursor\n",
    "from tweepy.streaming import StreamListener\n",
    "from tweepy import OAuthHandler\n",
    "from tweepy import Stream"
   ]
  },
  {
   "cell_type": "code",
   "execution_count": 2,
   "metadata": {
    "collapsed": true
   },
   "outputs": [],
   "source": [
    "import config #located in same folder\n",
    "\n",
    "consumer_key = config.twitter_anidata_consumer_key\n",
    "consumer_secret = config.twitter_anidata_consumer_secret\n",
    "access_token = config.twitter_anidata_access_token\n",
    "access_token_secret = config.twitter_anidata_access_token_secret"
   ]
  },
  {
   "cell_type": "code",
   "execution_count": 3,
   "metadata": {
    "collapsed": true
   },
   "outputs": [],
   "source": [
    "# Create a class to print the tweets\n",
    "\n",
    "class TwitterClient():\n",
    "    \n",
    "    def __init__(self, twitter_user=None):\n",
    "        self.auth = TwitterAuthenticator().authenticate_twitter_app()\n",
    "        self.twitter_client = API(self.auth) #API is imported from tweepy\n",
    "        \n",
    "        self.twitter_user = twitter_user\n",
    "        \n",
    "    def get_user_timeline_tweets(self, num_tweets):\n",
    "        tweets = []\n",
    "        for tweet in Cursor(self.twitter_client.user_timeline, id=self.twitter_user).items(num_tweets):\n",
    "            tweets.append(tweet)\n",
    "        return tweets\n",
    "    \n",
    "     def get_friend_list(self, num_friends):\n",
    "        friend_list = []\n",
    "        for friend in Cursor(self.twitter_client.friends, id=self.twitter_user).items(num_friends):\n",
    "            friend_list.append(friend)\n",
    "        return friend_list\n",
    "\n",
    "    def get_home_timeline_tweets(self, num_tweets):\n",
    "        home_timeline_tweets = []\n",
    "        for tweet in Cursor(self.twitter_client.home_timeline, id=self.twitter_user).items(num_tweets):\n",
    "            home_timeline_tweets.append(tweet)\n",
    "        return home_timeline_tweets\n",
    "        \n",
    "\n",
    "class TwitterAuthenticator():\n",
    "    '''\n",
    "    Class for authenticating Twitter app\n",
    "    '''\n",
    "    \n",
    "    def authenticate_twitter_app(self):\n",
    "        auth = OAuthHandler(consumer_key, consumer_secret)        # Create the authentication object\n",
    "        auth.set_access_token(access_token, access_token_secret)  # Set access token and secret\n",
    "        return auth      \n",
    "\n",
    "    \n",
    "class TwitterStreamer():\n",
    "    \n",
    "    \"\"\"\n",
    "    Class for streaming and processing live tweets\n",
    "    \"\"\"\n",
    "    \n",
    "    def __init__(self):\n",
    "        self.twitter_authenticator = TwitterAuthenticator()\n",
    "    \n",
    "    def stream_tweets(self, fetched_tweets_filename, search_terms):\n",
    "        #This handles twitter authentication and the connection to the twitter streaming API\n",
    "        \n",
    "        listener = TwitterListener(fetched_tweets_filename) # Create and object of class TwitterListener\n",
    "        auth = self.twitter_authenticator.authenticate_twitter_app()\n",
    "        stream = Stream(auth, listener)\n",
    "        \n",
    "        # filter the tweets using filter method provided by stream class\n",
    "        stream.filter(track=search_terms)\n",
    "        \n",
    "        \n",
    "\n",
    "class TwitterListener(StreamListener): # inherit from TwitterStreamer class which provides methods we can override\n",
    "\n",
    "    def __init__(self, fetched_tweets_filename): #constructor\n",
    "        self.fetched_tweets_filename = fetched_tweets_filename\n",
    "    \n",
    "    def on_data(self, data):    # take in the data from the StreamListener, then we can do whatever we want with that data\n",
    "        try:\n",
    "            print(data)\n",
    "            with open(self.fetched_tweets_filename, 'a') as tf:\n",
    "                tf.write(data)\n",
    "            return True             # return True to make sure everything went well\n",
    "        except BaseException as e:\n",
    "            print(\"Error on_data: %s\" % str(e))\n",
    "        return True  \n",
    "    \n",
    "    def on_error(self, status):\n",
    "        if status == 420:\n",
    "            # Returning False on_data method in case rate limit occurs.\n",
    "            return False\n",
    "        print(status)\n",
    "        \n",
    "\n"
   ]
  },
  {
   "cell_type": "code",
   "execution_count": 4,
   "metadata": {},
   "outputs": [
    {
     "name": "stdout",
     "output_type": "stream",
     "text": [
      "[Status(_api=<tweepy.api.API object at 0x000001C9BBAFC518>, _json={'created_at': 'Sun Jul 22 20:41:06 +0000 2018', 'id': 1021133056109948929, 'id_str': '1021133056109948929', 'text': 'RT @keeners1: @Ella__Dorsey Yesterday from Kroger parking lot in Versailles, KY. You know the rest. https://t.co/2PLwmVir4Z', 'truncated': False, 'entities': {'hashtags': [], 'symbols': [], 'user_mentions': [{'screen_name': 'keeners1', 'name': 'steve keener', 'id': 605629771, 'id_str': '605629771', 'indices': [3, 12]}, {'screen_name': 'Ella__Dorsey', 'name': 'Ella Dorsey', 'id': 362249392, 'id_str': '362249392', 'indices': [14, 27]}], 'urls': [], 'media': [{'id': 1020767447589085185, 'id_str': '1020767447589085185', 'indices': [100, 123], 'media_url': 'http://pbs.twimg.com/media/Dip-ldfUYAERzUl.jpg', 'media_url_https': 'https://pbs.twimg.com/media/Dip-ldfUYAERzUl.jpg', 'url': 'https://t.co/2PLwmVir4Z', 'display_url': 'pic.twitter.com/2PLwmVir4Z', 'expanded_url': 'https://twitter.com/keeners1/status/1020767629202554880/photo/1', 'type': 'photo', 'sizes': {'thumb': {'w': 150, 'h': 150, 'resize': 'crop'}, 'medium': {'w': 960, 'h': 720, 'resize': 'fit'}, 'large': {'w': 960, 'h': 720, 'resize': 'fit'}, 'small': {'w': 680, 'h': 510, 'resize': 'fit'}}, 'source_status_id': 1020767629202554880, 'source_status_id_str': '1020767629202554880', 'source_user_id': 605629771, 'source_user_id_str': '605629771'}]}, 'extended_entities': {'media': [{'id': 1020767447589085185, 'id_str': '1020767447589085185', 'indices': [100, 123], 'media_url': 'http://pbs.twimg.com/media/Dip-ldfUYAERzUl.jpg', 'media_url_https': 'https://pbs.twimg.com/media/Dip-ldfUYAERzUl.jpg', 'url': 'https://t.co/2PLwmVir4Z', 'display_url': 'pic.twitter.com/2PLwmVir4Z', 'expanded_url': 'https://twitter.com/keeners1/status/1020767629202554880/photo/1', 'type': 'photo', 'sizes': {'thumb': {'w': 150, 'h': 150, 'resize': 'crop'}, 'medium': {'w': 960, 'h': 720, 'resize': 'fit'}, 'large': {'w': 960, 'h': 720, 'resize': 'fit'}, 'small': {'w': 680, 'h': 510, 'resize': 'fit'}}, 'source_status_id': 1020767629202554880, 'source_status_id_str': '1020767629202554880', 'source_user_id': 605629771, 'source_user_id_str': '605629771'}]}, 'source': '<a href=\"http://twitter.com/download/iphone\" rel=\"nofollow\">Twitter for iPhone</a>', 'in_reply_to_status_id': None, 'in_reply_to_status_id_str': None, 'in_reply_to_user_id': None, 'in_reply_to_user_id_str': None, 'in_reply_to_screen_name': None, 'user': {'id': 362249392, 'id_str': '362249392', 'name': 'Ella Dorsey', 'screen_name': 'Ella__Dorsey', 'location': 'Atlanta, GA', 'description': 'AMS Certified Meteorologist for @cbs46 (4&9pm). Partnered w/ @Braves. 95% of my tweets are about weather & sports. Dawgs on Top || RavensNation', 'url': 'https://t.co/waKfFwo5U3', 'entities': {'url': {'urls': [{'url': 'https://t.co/waKfFwo5U3', 'expanded_url': 'https://www.bulldawgillustrated.com/football-forecast-ella-vance-podcasts/', 'display_url': 'bulldawgillustrated.com/football-forec…', 'indices': [0, 23]}]}, 'description': {'urls': []}}, 'protected': False, 'followers_count': 14450, 'friends_count': 968, 'listed_count': 168, 'created_at': 'Fri Aug 26 02:42:58 +0000 2011', 'favourites_count': 5688, 'utc_offset': None, 'time_zone': None, 'geo_enabled': True, 'verified': True, 'statuses_count': 9663, 'lang': 'en', 'contributors_enabled': False, 'is_translator': False, 'is_translation_enabled': False, 'profile_background_color': '97BEE8', 'profile_background_image_url': 'http://abs.twimg.com/images/themes/theme1/bg.png', 'profile_background_image_url_https': 'https://abs.twimg.com/images/themes/theme1/bg.png', 'profile_background_tile': True, 'profile_image_url': 'http://pbs.twimg.com/profile_images/990991712280567811/73d_smsc_normal.jpg', 'profile_image_url_https': 'https://pbs.twimg.com/profile_images/990991712280567811/73d_smsc_normal.jpg', 'profile_banner_url': 'https://pbs.twimg.com/profile_banners/362249392/1525263462', 'profile_link_color': 'D396EB', 'profile_sidebar_border_color': 'FFFFFF', 'profile_sidebar_fill_color': 'DDEEF6', 'profile_text_color': '333333', 'profile_use_background_image': True, 'has_extended_profile': False, 'default_profile': False, 'default_profile_image': False, 'following': True, 'follow_request_sent': False, 'notifications': False, 'translator_type': 'none'}, 'geo': None, 'coordinates': None, 'place': None, 'contributors': None, 'retweeted_status': {'created_at': 'Sat Jul 21 20:29:02 +0000 2018', 'id': 1020767629202554880, 'id_str': '1020767629202554880', 'text': '@Ella__Dorsey Yesterday from Kroger parking lot in Versailles, KY. You know the rest. https://t.co/2PLwmVir4Z', 'truncated': False, 'entities': {'hashtags': [], 'symbols': [], 'user_mentions': [{'screen_name': 'Ella__Dorsey', 'name': 'Ella Dorsey', 'id': 362249392, 'id_str': '362249392', 'indices': [0, 13]}], 'urls': [], 'media': [{'id': 1020767447589085185, 'id_str': '1020767447589085185', 'indices': [86, 109], 'media_url': 'http://pbs.twimg.com/media/Dip-ldfUYAERzUl.jpg', 'media_url_https': 'https://pbs.twimg.com/media/Dip-ldfUYAERzUl.jpg', 'url': 'https://t.co/2PLwmVir4Z', 'display_url': 'pic.twitter.com/2PLwmVir4Z', 'expanded_url': 'https://twitter.com/keeners1/status/1020767629202554880/photo/1', 'type': 'photo', 'sizes': {'thumb': {'w': 150, 'h': 150, 'resize': 'crop'}, 'medium': {'w': 960, 'h': 720, 'resize': 'fit'}, 'large': {'w': 960, 'h': 720, 'resize': 'fit'}, 'small': {'w': 680, 'h': 510, 'resize': 'fit'}}}]}, 'extended_entities': {'media': [{'id': 1020767447589085185, 'id_str': '1020767447589085185', 'indices': [86, 109], 'media_url': 'http://pbs.twimg.com/media/Dip-ldfUYAERzUl.jpg', 'media_url_https': 'https://pbs.twimg.com/media/Dip-ldfUYAERzUl.jpg', 'url': 'https://t.co/2PLwmVir4Z', 'display_url': 'pic.twitter.com/2PLwmVir4Z', 'expanded_url': 'https://twitter.com/keeners1/status/1020767629202554880/photo/1', 'type': 'photo', 'sizes': {'thumb': {'w': 150, 'h': 150, 'resize': 'crop'}, 'medium': {'w': 960, 'h': 720, 'resize': 'fit'}, 'large': {'w': 960, 'h': 720, 'resize': 'fit'}, 'small': {'w': 680, 'h': 510, 'resize': 'fit'}}}]}, 'source': '<a href=\"http://twitter.com\" rel=\"nofollow\">Twitter Web Client</a>', 'in_reply_to_status_id': None, 'in_reply_to_status_id_str': None, 'in_reply_to_user_id': 362249392, 'in_reply_to_user_id_str': '362249392', 'in_reply_to_screen_name': 'Ella__Dorsey', 'user': {'id': 605629771, 'id_str': '605629771', 'name': 'steve keener', 'screen_name': 'keeners1', 'location': '', 'description': '', 'url': None, 'entities': {'description': {'urls': []}}, 'protected': False, 'followers_count': 70, 'friends_count': 376, 'listed_count': 0, 'created_at': 'Mon Jun 11 18:13:37 +0000 2012', 'favourites_count': 3712, 'utc_offset': None, 'time_zone': None, 'geo_enabled': False, 'verified': False, 'statuses_count': 914, 'lang': 'en', 'contributors_enabled': False, 'is_translator': False, 'is_translation_enabled': False, 'profile_background_color': 'C0DEED', 'profile_background_image_url': 'http://abs.twimg.com/images/themes/theme1/bg.png', 'profile_background_image_url_https': 'https://abs.twimg.com/images/themes/theme1/bg.png', 'profile_background_tile': False, 'profile_image_url': 'http://pbs.twimg.com/profile_images/464854973763698688/sJCAhabC_normal.jpeg', 'profile_image_url_https': 'https://pbs.twimg.com/profile_images/464854973763698688/sJCAhabC_normal.jpeg', 'profile_link_color': '1DA1F2', 'profile_sidebar_border_color': 'C0DEED', 'profile_sidebar_fill_color': 'DDEEF6', 'profile_text_color': '333333', 'profile_use_background_image': True, 'has_extended_profile': False, 'default_profile': True, 'default_profile_image': False, 'following': False, 'follow_request_sent': False, 'notifications': False, 'translator_type': 'none'}, 'geo': None, 'coordinates': None, 'place': None, 'contributors': None, 'is_quote_status': False, 'retweet_count': 5, 'favorite_count': 10, 'favorited': False, 'retweeted': False, 'possibly_sensitive': False, 'lang': 'en'}, 'is_quote_status': False, 'retweet_count': 5, 'favorite_count': 0, 'favorited': False, 'retweeted': False, 'possibly_sensitive': False, 'lang': 'en'}, created_at=datetime.datetime(2018, 7, 22, 20, 41, 6), id=1021133056109948929, id_str='1021133056109948929', text='RT @keeners1: @Ella__Dorsey Yesterday from Kroger parking lot in Versailles, KY. You know the rest. https://t.co/2PLwmVir4Z', truncated=False, entities={'hashtags': [], 'symbols': [], 'user_mentions': [{'screen_name': 'keeners1', 'name': 'steve keener', 'id': 605629771, 'id_str': '605629771', 'indices': [3, 12]}, {'screen_name': 'Ella__Dorsey', 'name': 'Ella Dorsey', 'id': 362249392, 'id_str': '362249392', 'indices': [14, 27]}], 'urls': [], 'media': [{'id': 1020767447589085185, 'id_str': '1020767447589085185', 'indices': [100, 123], 'media_url': 'http://pbs.twimg.com/media/Dip-ldfUYAERzUl.jpg', 'media_url_https': 'https://pbs.twimg.com/media/Dip-ldfUYAERzUl.jpg', 'url': 'https://t.co/2PLwmVir4Z', 'display_url': 'pic.twitter.com/2PLwmVir4Z', 'expanded_url': 'https://twitter.com/keeners1/status/1020767629202554880/photo/1', 'type': 'photo', 'sizes': {'thumb': {'w': 150, 'h': 150, 'resize': 'crop'}, 'medium': {'w': 960, 'h': 720, 'resize': 'fit'}, 'large': {'w': 960, 'h': 720, 'resize': 'fit'}, 'small': {'w': 680, 'h': 510, 'resize': 'fit'}}, 'source_status_id': 1020767629202554880, 'source_status_id_str': '1020767629202554880', 'source_user_id': 605629771, 'source_user_id_str': '605629771'}]}, extended_entities={'media': [{'id': 1020767447589085185, 'id_str': '1020767447589085185', 'indices': [100, 123], 'media_url': 'http://pbs.twimg.com/media/Dip-ldfUYAERzUl.jpg', 'media_url_https': 'https://pbs.twimg.com/media/Dip-ldfUYAERzUl.jpg', 'url': 'https://t.co/2PLwmVir4Z', 'display_url': 'pic.twitter.com/2PLwmVir4Z', 'expanded_url': 'https://twitter.com/keeners1/status/1020767629202554880/photo/1', 'type': 'photo', 'sizes': {'thumb': {'w': 150, 'h': 150, 'resize': 'crop'}, 'medium': {'w': 960, 'h': 720, 'resize': 'fit'}, 'large': {'w': 960, 'h': 720, 'resize': 'fit'}, 'small': {'w': 680, 'h': 510, 'resize': 'fit'}}, 'source_status_id': 1020767629202554880, 'source_status_id_str': '1020767629202554880', 'source_user_id': 605629771, 'source_user_id_str': '605629771'}]}, source='Twitter for iPhone', source_url='http://twitter.com/download/iphone', in_reply_to_status_id=None, in_reply_to_status_id_str=None, in_reply_to_user_id=None, in_reply_to_user_id_str=None, in_reply_to_screen_name=None, author=User(_api=<tweepy.api.API object at 0x000001C9BBAFC518>, _json={'id': 362249392, 'id_str': '362249392', 'name': 'Ella Dorsey', 'screen_name': 'Ella__Dorsey', 'location': 'Atlanta, GA', 'description': 'AMS Certified Meteorologist for @cbs46 (4&9pm). Partnered w/ @Braves. 95% of my tweets are about weather & sports. Dawgs on Top || RavensNation', 'url': 'https://t.co/waKfFwo5U3', 'entities': {'url': {'urls': [{'url': 'https://t.co/waKfFwo5U3', 'expanded_url': 'https://www.bulldawgillustrated.com/football-forecast-ella-vance-podcasts/', 'display_url': 'bulldawgillustrated.com/football-forec…', 'indices': [0, 23]}]}, 'description': {'urls': []}}, 'protected': False, 'followers_count': 14450, 'friends_count': 968, 'listed_count': 168, 'created_at': 'Fri Aug 26 02:42:58 +0000 2011', 'favourites_count': 5688, 'utc_offset': None, 'time_zone': None, 'geo_enabled': True, 'verified': True, 'statuses_count': 9663, 'lang': 'en', 'contributors_enabled': False, 'is_translator': False, 'is_translation_enabled': False, 'profile_background_color': '97BEE8', 'profile_background_image_url': 'http://abs.twimg.com/images/themes/theme1/bg.png', 'profile_background_image_url_https': 'https://abs.twimg.com/images/themes/theme1/bg.png', 'profile_background_tile': True, 'profile_image_url': 'http://pbs.twimg.com/profile_images/990991712280567811/73d_smsc_normal.jpg', 'profile_image_url_https': 'https://pbs.twimg.com/profile_images/990991712280567811/73d_smsc_normal.jpg', 'profile_banner_url': 'https://pbs.twimg.com/profile_banners/362249392/1525263462', 'profile_link_color': 'D396EB', 'profile_sidebar_border_color': 'FFFFFF', 'profile_sidebar_fill_color': 'DDEEF6', 'profile_text_color': '333333', 'profile_use_background_image': True, 'has_extended_profile': False, 'default_profile': False, 'default_profile_image': False, 'following': True, 'follow_request_sent': False, 'notifications': False, 'translator_type': 'none'}, id=362249392, id_str='362249392', name='Ella Dorsey', screen_name='Ella__Dorsey', location='Atlanta, GA', description='AMS Certified Meteorologist for @cbs46 (4&9pm). Partnered w/ @Braves. 95% of my tweets are about weather & sports. Dawgs on Top || RavensNation', url='https://t.co/waKfFwo5U3', entities={'url': {'urls': [{'url': 'https://t.co/waKfFwo5U3', 'expanded_url': 'https://www.bulldawgillustrated.com/football-forecast-ella-vance-podcasts/', 'display_url': 'bulldawgillustrated.com/football-forec…', 'indices': [0, 23]}]}, 'description': {'urls': []}}, protected=False, followers_count=14450, friends_count=968, listed_count=168, created_at=datetime.datetime(2011, 8, 26, 2, 42, 58), favourites_count=5688, utc_offset=None, time_zone=None, geo_enabled=True, verified=True, statuses_count=9663, lang='en', contributors_enabled=False, is_translator=False, is_translation_enabled=False, profile_background_color='97BEE8', profile_background_image_url='http://abs.twimg.com/images/themes/theme1/bg.png', profile_background_image_url_https='https://abs.twimg.com/images/themes/theme1/bg.png', profile_background_tile=True, profile_image_url='http://pbs.twimg.com/profile_images/990991712280567811/73d_smsc_normal.jpg', profile_image_url_https='https://pbs.twimg.com/profile_images/990991712280567811/73d_smsc_normal.jpg', profile_banner_url='https://pbs.twimg.com/profile_banners/362249392/1525263462', profile_link_color='D396EB', profile_sidebar_border_color='FFFFFF', profile_sidebar_fill_color='DDEEF6', profile_text_color='333333', profile_use_background_image=True, has_extended_profile=False, default_profile=False, default_profile_image=False, following=True, follow_request_sent=False, notifications=False, translator_type='none'), user=User(_api=<tweepy.api.API object at 0x000001C9BBAFC518>, _json={'id': 362249392, 'id_str': '362249392', 'name': 'Ella Dorsey', 'screen_name': 'Ella__Dorsey', 'location': 'Atlanta, GA', 'description': 'AMS Certified Meteorologist for @cbs46 (4&9pm). Partnered w/ @Braves. 95% of my tweets are about weather & sports. Dawgs on Top || RavensNation', 'url': 'https://t.co/waKfFwo5U3', 'entities': {'url': {'urls': [{'url': 'https://t.co/waKfFwo5U3', 'expanded_url': 'https://www.bulldawgillustrated.com/football-forecast-ella-vance-podcasts/', 'display_url': 'bulldawgillustrated.com/football-forec…', 'indices': [0, 23]}]}, 'description': {'urls': []}}, 'protected': False, 'followers_count': 14450, 'friends_count': 968, 'listed_count': 168, 'created_at': 'Fri Aug 26 02:42:58 +0000 2011', 'favourites_count': 5688, 'utc_offset': None, 'time_zone': None, 'geo_enabled': True, 'verified': True, 'statuses_count': 9663, 'lang': 'en', 'contributors_enabled': False, 'is_translator': False, 'is_translation_enabled': False, 'profile_background_color': '97BEE8', 'profile_background_image_url': 'http://abs.twimg.com/images/themes/theme1/bg.png', 'profile_background_image_url_https': 'https://abs.twimg.com/images/themes/theme1/bg.png', 'profile_background_tile': True, 'profile_image_url': 'http://pbs.twimg.com/profile_images/990991712280567811/73d_smsc_normal.jpg', 'profile_image_url_https': 'https://pbs.twimg.com/profile_images/990991712280567811/73d_smsc_normal.jpg', 'profile_banner_url': 'https://pbs.twimg.com/profile_banners/362249392/1525263462', 'profile_link_color': 'D396EB', 'profile_sidebar_border_color': 'FFFFFF', 'profile_sidebar_fill_color': 'DDEEF6', 'profile_text_color': '333333', 'profile_use_background_image': True, 'has_extended_profile': False, 'default_profile': False, 'default_profile_image': False, 'following': True, 'follow_request_sent': False, 'notifications': False, 'translator_type': 'none'}, id=362249392, id_str='362249392', name='Ella Dorsey', screen_name='Ella__Dorsey', location='Atlanta, GA', description='AMS Certified Meteorologist for @cbs46 (4&9pm). Partnered w/ @Braves. 95% of my tweets are about weather & sports. Dawgs on Top || RavensNation', url='https://t.co/waKfFwo5U3', entities={'url': {'urls': [{'url': 'https://t.co/waKfFwo5U3', 'expanded_url': 'https://www.bulldawgillustrated.com/football-forecast-ella-vance-podcasts/', 'display_url': 'bulldawgillustrated.com/football-forec…', 'indices': [0, 23]}]}, 'description': {'urls': []}}, protected=False, followers_count=14450, friends_count=968, listed_count=168, created_at=datetime.datetime(2011, 8, 26, 2, 42, 58), favourites_count=5688, utc_offset=None, time_zone=None, geo_enabled=True, verified=True, statuses_count=9663, lang='en', contributors_enabled=False, is_translator=False, is_translation_enabled=False, profile_background_color='97BEE8', profile_background_image_url='http://abs.twimg.com/images/themes/theme1/bg.png', profile_background_image_url_https='https://abs.twimg.com/images/themes/theme1/bg.png', profile_background_tile=True, profile_image_url='http://pbs.twimg.com/profile_images/990991712280567811/73d_smsc_normal.jpg', profile_image_url_https='https://pbs.twimg.com/profile_images/990991712280567811/73d_smsc_normal.jpg', profile_banner_url='https://pbs.twimg.com/profile_banners/362249392/1525263462', profile_link_color='D396EB', profile_sidebar_border_color='FFFFFF', profile_sidebar_fill_color='DDEEF6', profile_text_color='333333', profile_use_background_image=True, has_extended_profile=False, default_profile=False, default_profile_image=False, following=True, follow_request_sent=False, notifications=False, translator_type='none'), geo=None, coordinates=None, place=None, contributors=None, retweeted_status=Status(_api=<tweepy.api.API object at 0x000001C9BBAFC518>, _json={'created_at': 'Sat Jul 21 20:29:02 +0000 2018', 'id': 1020767629202554880, 'id_str': '1020767629202554880', 'text': '@Ella__Dorsey Yesterday from Kroger parking lot in Versailles, KY. You know the rest. https://t.co/2PLwmVir4Z', 'truncated': False, 'entities': {'hashtags': [], 'symbols': [], 'user_mentions': [{'screen_name': 'Ella__Dorsey', 'name': 'Ella Dorsey', 'id': 362249392, 'id_str': '362249392', 'indices': [0, 13]}], 'urls': [], 'media': [{'id': 1020767447589085185, 'id_str': '1020767447589085185', 'indices': [86, 109], 'media_url': 'http://pbs.twimg.com/media/Dip-ldfUYAERzUl.jpg', 'media_url_https': 'https://pbs.twimg.com/media/Dip-ldfUYAERzUl.jpg', 'url': 'https://t.co/2PLwmVir4Z', 'display_url': 'pic.twitter.com/2PLwmVir4Z', 'expanded_url': 'https://twitter.com/keeners1/status/1020767629202554880/photo/1', 'type': 'photo', 'sizes': {'thumb': {'w': 150, 'h': 150, 'resize': 'crop'}, 'medium': {'w': 960, 'h': 720, 'resize': 'fit'}, 'large': {'w': 960, 'h': 720, 'resize': 'fit'}, 'small': {'w': 680, 'h': 510, 'resize': 'fit'}}}]}, 'extended_entities': {'media': [{'id': 1020767447589085185, 'id_str': '1020767447589085185', 'indices': [86, 109], 'media_url': 'http://pbs.twimg.com/media/Dip-ldfUYAERzUl.jpg', 'media_url_https': 'https://pbs.twimg.com/media/Dip-ldfUYAERzUl.jpg', 'url': 'https://t.co/2PLwmVir4Z', 'display_url': 'pic.twitter.com/2PLwmVir4Z', 'expanded_url': 'https://twitter.com/keeners1/status/1020767629202554880/photo/1', 'type': 'photo', 'sizes': {'thumb': {'w': 150, 'h': 150, 'resize': 'crop'}, 'medium': {'w': 960, 'h': 720, 'resize': 'fit'}, 'large': {'w': 960, 'h': 720, 'resize': 'fit'}, 'small': {'w': 680, 'h': 510, 'resize': 'fit'}}}]}, 'source': '<a href=\"http://twitter.com\" rel=\"nofollow\">Twitter Web Client</a>', 'in_reply_to_status_id': None, 'in_reply_to_status_id_str': None, 'in_reply_to_user_id': 362249392, 'in_reply_to_user_id_str': '362249392', 'in_reply_to_screen_name': 'Ella__Dorsey', 'user': {'id': 605629771, 'id_str': '605629771', 'name': 'steve keener', 'screen_name': 'keeners1', 'location': '', 'description': '', 'url': None, 'entities': {'description': {'urls': []}}, 'protected': False, 'followers_count': 70, 'friends_count': 376, 'listed_count': 0, 'created_at': 'Mon Jun 11 18:13:37 +0000 2012', 'favourites_count': 3712, 'utc_offset': None, 'time_zone': None, 'geo_enabled': False, 'verified': False, 'statuses_count': 914, 'lang': 'en', 'contributors_enabled': False, 'is_translator': False, 'is_translation_enabled': False, 'profile_background_color': 'C0DEED', 'profile_background_image_url': 'http://abs.twimg.com/images/themes/theme1/bg.png', 'profile_background_image_url_https': 'https://abs.twimg.com/images/themes/theme1/bg.png', 'profile_background_tile': False, 'profile_image_url': 'http://pbs.twimg.com/profile_images/464854973763698688/sJCAhabC_normal.jpeg', 'profile_image_url_https': 'https://pbs.twimg.com/profile_images/464854973763698688/sJCAhabC_normal.jpeg', 'profile_link_color': '1DA1F2', 'profile_sidebar_border_color': 'C0DEED', 'profile_sidebar_fill_color': 'DDEEF6', 'profile_text_color': '333333', 'profile_use_background_image': True, 'has_extended_profile': False, 'default_profile': True, 'default_profile_image': False, 'following': False, 'follow_request_sent': False, 'notifications': False, 'translator_type': 'none'}, 'geo': None, 'coordinates': None, 'place': None, 'contributors': None, 'is_quote_status': False, 'retweet_count': 5, 'favorite_count': 10, 'favorited': False, 'retweeted': False, 'possibly_sensitive': False, 'lang': 'en'}, created_at=datetime.datetime(2018, 7, 21, 20, 29, 2), id=1020767629202554880, id_str='1020767629202554880', text='@Ella__Dorsey Yesterday from Kroger parking lot in Versailles, KY. You know the rest. https://t.co/2PLwmVir4Z', truncated=False, entities={'hashtags': [], 'symbols': [], 'user_mentions': [{'screen_name': 'Ella__Dorsey', 'name': 'Ella Dorsey', 'id': 362249392, 'id_str': '362249392', 'indices': [0, 13]}], 'urls': [], 'media': [{'id': 1020767447589085185, 'id_str': '1020767447589085185', 'indices': [86, 109], 'media_url': 'http://pbs.twimg.com/media/Dip-ldfUYAERzUl.jpg', 'media_url_https': 'https://pbs.twimg.com/media/Dip-ldfUYAERzUl.jpg', 'url': 'https://t.co/2PLwmVir4Z', 'display_url': 'pic.twitter.com/2PLwmVir4Z', 'expanded_url': 'https://twitter.com/keeners1/status/1020767629202554880/photo/1', 'type': 'photo', 'sizes': {'thumb': {'w': 150, 'h': 150, 'resize': 'crop'}, 'medium': {'w': 960, 'h': 720, 'resize': 'fit'}, 'large': {'w': 960, 'h': 720, 'resize': 'fit'}, 'small': {'w': 680, 'h': 510, 'resize': 'fit'}}}]}, extended_entities={'media': [{'id': 1020767447589085185, 'id_str': '1020767447589085185', 'indices': [86, 109], 'media_url': 'http://pbs.twimg.com/media/Dip-ldfUYAERzUl.jpg', 'media_url_https': 'https://pbs.twimg.com/media/Dip-ldfUYAERzUl.jpg', 'url': 'https://t.co/2PLwmVir4Z', 'display_url': 'pic.twitter.com/2PLwmVir4Z', 'expanded_url': 'https://twitter.com/keeners1/status/1020767629202554880/photo/1', 'type': 'photo', 'sizes': {'thumb': {'w': 150, 'h': 150, 'resize': 'crop'}, 'medium': {'w': 960, 'h': 720, 'resize': 'fit'}, 'large': {'w': 960, 'h': 720, 'resize': 'fit'}, 'small': {'w': 680, 'h': 510, 'resize': 'fit'}}}]}, source='Twitter Web Client', source_url='http://twitter.com', in_reply_to_status_id=None, in_reply_to_status_id_str=None, in_reply_to_user_id=362249392, in_reply_to_user_id_str='362249392', in_reply_to_screen_name='Ella__Dorsey', author=User(_api=<tweepy.api.API object at 0x000001C9BBAFC518>, _json={'id': 605629771, 'id_str': '605629771', 'name': 'steve keener', 'screen_name': 'keeners1', 'location': '', 'description': '', 'url': None, 'entities': {'description': {'urls': []}}, 'protected': False, 'followers_count': 70, 'friends_count': 376, 'listed_count': 0, 'created_at': 'Mon Jun 11 18:13:37 +0000 2012', 'favourites_count': 3712, 'utc_offset': None, 'time_zone': None, 'geo_enabled': False, 'verified': False, 'statuses_count': 914, 'lang': 'en', 'contributors_enabled': False, 'is_translator': False, 'is_translation_enabled': False, 'profile_background_color': 'C0DEED', 'profile_background_image_url': 'http://abs.twimg.com/images/themes/theme1/bg.png', 'profile_background_image_url_https': 'https://abs.twimg.com/images/themes/theme1/bg.png', 'profile_background_tile': False, 'profile_image_url': 'http://pbs.twimg.com/profile_images/464854973763698688/sJCAhabC_normal.jpeg', 'profile_image_url_https': 'https://pbs.twimg.com/profile_images/464854973763698688/sJCAhabC_normal.jpeg', 'profile_link_color': '1DA1F2', 'profile_sidebar_border_color': 'C0DEED', 'profile_sidebar_fill_color': 'DDEEF6', 'profile_text_color': '333333', 'profile_use_background_image': True, 'has_extended_profile': False, 'default_profile': True, 'default_profile_image': False, 'following': False, 'follow_request_sent': False, 'notifications': False, 'translator_type': 'none'}, id=605629771, id_str='605629771', name='steve keener', screen_name='keeners1', location='', description='', url=None, entities={'description': {'urls': []}}, protected=False, followers_count=70, friends_count=376, listed_count=0, created_at=datetime.datetime(2012, 6, 11, 18, 13, 37), favourites_count=3712, utc_offset=None, time_zone=None, geo_enabled=False, verified=False, statuses_count=914, lang='en', contributors_enabled=False, is_translator=False, is_translation_enabled=False, profile_background_color='C0DEED', profile_background_image_url='http://abs.twimg.com/images/themes/theme1/bg.png', profile_background_image_url_https='https://abs.twimg.com/images/themes/theme1/bg.png', profile_background_tile=False, profile_image_url='http://pbs.twimg.com/profile_images/464854973763698688/sJCAhabC_normal.jpeg', profile_image_url_https='https://pbs.twimg.com/profile_images/464854973763698688/sJCAhabC_normal.jpeg', profile_link_color='1DA1F2', profile_sidebar_border_color='C0DEED', profile_sidebar_fill_color='DDEEF6', profile_text_color='333333', profile_use_background_image=True, has_extended_profile=False, default_profile=True, default_profile_image=False, following=False, follow_request_sent=False, notifications=False, translator_type='none'), user=User(_api=<tweepy.api.API object at 0x000001C9BBAFC518>, _json={'id': 605629771, 'id_str': '605629771', 'name': 'steve keener', 'screen_name': 'keeners1', 'location': '', 'description': '', 'url': None, 'entities': {'description': {'urls': []}}, 'protected': False, 'followers_count': 70, 'friends_count': 376, 'listed_count': 0, 'created_at': 'Mon Jun 11 18:13:37 +0000 2012', 'favourites_count': 3712, 'utc_offset': None, 'time_zone': None, 'geo_enabled': False, 'verified': False, 'statuses_count': 914, 'lang': 'en', 'contributors_enabled': False, 'is_translator': False, 'is_translation_enabled': False, 'profile_background_color': 'C0DEED', 'profile_background_image_url': 'http://abs.twimg.com/images/themes/theme1/bg.png', 'profile_background_image_url_https': 'https://abs.twimg.com/images/themes/theme1/bg.png', 'profile_background_tile': False, 'profile_image_url': 'http://pbs.twimg.com/profile_images/464854973763698688/sJCAhabC_normal.jpeg', 'profile_image_url_https': 'https://pbs.twimg.com/profile_images/464854973763698688/sJCAhabC_normal.jpeg', 'profile_link_color': '1DA1F2', 'profile_sidebar_border_color': 'C0DEED', 'profile_sidebar_fill_color': 'DDEEF6', 'profile_text_color': '333333', 'profile_use_background_image': True, 'has_extended_profile': False, 'default_profile': True, 'default_profile_image': False, 'following': False, 'follow_request_sent': False, 'notifications': False, 'translator_type': 'none'}, id=605629771, id_str='605629771', name='steve keener', screen_name='keeners1', location='', description='', url=None, entities={'description': {'urls': []}}, protected=False, followers_count=70, friends_count=376, listed_count=0, created_at=datetime.datetime(2012, 6, 11, 18, 13, 37), favourites_count=3712, utc_offset=None, time_zone=None, geo_enabled=False, verified=False, statuses_count=914, lang='en', contributors_enabled=False, is_translator=False, is_translation_enabled=False, profile_background_color='C0DEED', profile_background_image_url='http://abs.twimg.com/images/themes/theme1/bg.png', profile_background_image_url_https='https://abs.twimg.com/images/themes/theme1/bg.png', profile_background_tile=False, profile_image_url='http://pbs.twimg.com/profile_images/464854973763698688/sJCAhabC_normal.jpeg', profile_image_url_https='https://pbs.twimg.com/profile_images/464854973763698688/sJCAhabC_normal.jpeg', profile_link_color='1DA1F2', profile_sidebar_border_color='C0DEED', profile_sidebar_fill_color='DDEEF6', profile_text_color='333333', profile_use_background_image=True, has_extended_profile=False, default_profile=True, default_profile_image=False, following=False, follow_request_sent=False, notifications=False, translator_type='none'), geo=None, coordinates=None, place=None, contributors=None, is_quote_status=False, retweet_count=5, favorite_count=10, favorited=False, retweeted=False, possibly_sensitive=False, lang='en'), is_quote_status=False, retweet_count=5, favorite_count=0, favorited=False, retweeted=False, possibly_sensitive=False, lang='en')]\n"
     ]
    }
   ],
   "source": [
    "if __name__ == \"__main__\":\n",
    "    \n",
    "    # Define search terms\n",
    "    search_terms = ['#atlanta', '-filter:retweets']\n",
    "    \n",
    "    # Define output file name\n",
    "    fetched_tweets_filename = \"tweets.json\"\n",
    "    \n",
    "    # Define number of tweets to collect\n",
    "    number_of_tweets_to_return = 1\n",
    "    \n",
    "    # Optionally define a twitter user other than the application owner (owner's timeline)\n",
    "    # If left empty, default to None and uses the application owner's timeline\n",
    "    twitter_user = 'Ella__Dorsey'\n",
    "    \n",
    "    # Define TwitterStreamer object\n",
    "    # twitter_streamer = TwitterStreamer()\n",
    "    \n",
    "    # twitter_streamer.stream_tweets(fetched_tweets_filename, search_terms)\n",
    "    \n",
    "    twitter_client = TwitterClient(twitter_user)\n",
    "    print(twitter_client.get_user_timeline_tweets(number_of_tweets_to_return))\n",
    "    "
   ]
  },
  {
   "cell_type": "code",
   "execution_count": null,
   "metadata": {
    "collapsed": true
   },
   "outputs": [],
   "source": []
  }
 ],
 "metadata": {
  "kernelspec": {
   "display_name": "Python 3",
   "language": "python",
   "name": "python3"
  },
  "language_info": {
   "codemirror_mode": {
    "name": "ipython",
    "version": 3
   },
   "file_extension": ".py",
   "mimetype": "text/x-python",
   "name": "python",
   "nbconvert_exporter": "python",
   "pygments_lexer": "ipython3",
   "version": "3.6.6"
  }
 },
 "nbformat": 4,
 "nbformat_minor": 2
}
