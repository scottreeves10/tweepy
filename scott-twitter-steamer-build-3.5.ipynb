{
 "cells": [
  {
   "cell_type": "code",
   "execution_count": null,
   "metadata": {
    "collapsed": true
   },
   "outputs": [],
   "source": [
    "from tweepy import API\n",
    "from tweepy import OAuthHandler\n",
    "from tweepy import Stream\n",
    "from tweepy import StreamListener\n",
    "import pandas as pd\n",
    "import numpy as np"
   ]
  },
  {
   "cell_type": "code",
   "execution_count": null,
   "metadata": {
    "collapsed": true
   },
   "outputs": [],
   "source": [
    "import config # config.py contains values for consumer and access variables\n",
    "consumer_key = config.twitter_anidata_consumer_key\n",
    "consumer_secret = config.twitter_anidata_consumer_secret\n",
    "access_token = config.twitter_anidata_access_token\n",
    "access_token_secret = config.twitter_anidata_access_token_secret"
   ]
  },
  {
   "cell_type": "code",
   "execution_count": null,
   "metadata": {
    "collapsed": true
   },
   "outputs": [],
   "source": [
    "auth = OAuthHandler(consumer_key, consumer_secret) #create the authentication object\n",
    "auth.set_access_token(access_token, access_token_secret) #set access token and secret\n",
    "api = API(auth) #create an API object"
   ]
  },
  {
   "cell_type": "code",
   "execution_count": null,
   "metadata": {
    "collapsed": true
   },
   "outputs": [],
   "source": [
    "col_names = ['id_str', 'user_name', 'text']\n",
    "df_tweets = pd.DataFrame(columns = col_names)"
   ]
  },
  {
   "cell_type": "code",
   "execution_count": null,
   "metadata": {
    "collapsed": true
   },
   "outputs": [],
   "source": [
    "#create streamlistener class inherited from tweepy in order to use and override its on_status method\n",
    "\n",
    "class cl_StreamListener(StreamListener): \n",
    "    \n",
    "    def __init__(self, api = None):\n",
    "        self.api = api or API()\n",
    "        self.counter = 0\n",
    "        \n",
    "        \n",
    "    def disconnect(self): \n",
    "        self.stream.disconnect()\n",
    "       \n",
    "    def on_status(self, status):\n",
    "        \n",
    "        if not hasattr(status, 'retweeted_status'):\n",
    "        \n",
    "            if self.counter < num_tweets:\n",
    "\n",
    "                status.text = status.text.replace('\\n', ' ')\n",
    "                print(self.counter, \".\", status.id_str, status.user.name, status.text)\n",
    "                new_status = {'id_str' : status.id_str,\n",
    "                             'user_name' : status.user.name,\n",
    "                             'text': status.text\n",
    "                             }\n",
    "                df_tweets.loc[len(df_tweets)] = new_status\n",
    "\n",
    "                self.counter +=1\n",
    "\n",
    "            else:\n",
    "                return False"
   ]
  },
  {
   "cell_type": "code",
   "execution_count": null,
   "metadata": {},
   "outputs": [],
   "source": [
    "#create a stream. we need an api to stream.\n",
    "#Once we have an api and a status listener we can create our stream object.\n",
    "\n",
    "twitterStreamListener = cl_StreamListener()\n",
    "twitterStream = Stream(auth=api.auth, listener=twitterStreamListener)\n",
    "\n",
    "#use the filter stream available through Tweepy (others include sitestream and user_stream)\n",
    "query_terms=['#atlanta', '#atl', 'atlanta', 'atlanta social good']\n",
    "num_tweets = 200\n",
    "langs = ['en']\n",
    "\n",
    "#Standard streaming API request parameters:\n",
    "#https://developer.twitter.com/en/docs/tweets/filter-realtime/guides/basic-stream-parameters\n",
    "#the track parameter is an array of search terms to stream.\n",
    "#(there is no exclude. that must be done locally/in code)\n",
    "'''\n",
    "A comma-separated list of phrases which will be used to determine what Tweets will be delivered on the stream. \n",
    "A phrase may be one or more terms separated by spaces, and a phrase will match if all of the terms in the phrase \n",
    "are present in the Tweet, regardless of order and ignoring case. By this model, you can think of commas as \n",
    "logical ORs, while spaces are equivalent to logical ANDs (e.g. ‘the twitter’ is the AND twitter, and \n",
    "‘the,twitter’ is the OR twitter).\n",
    "'''\n",
    "twitterStream.filter(languages=langs, track=query_terms) "
   ]
  },
  {
   "cell_type": "code",
   "execution_count": null,
   "metadata": {},
   "outputs": [],
   "source": [
    "df_tweets"
   ]
  },
  {
   "cell_type": "code",
   "execution_count": null,
   "metadata": {
    "collapsed": true
   },
   "outputs": [],
   "source": [
    "df_tweets.to_csv(\"twitter_stream.csv\")"
   ]
  }
 ],
 "metadata": {
  "kernelspec": {
   "display_name": "Python 3",
   "language": "python",
   "name": "python3"
  },
  "language_info": {
   "codemirror_mode": {
    "name": "ipython",
    "version": 3
   },
   "file_extension": ".py",
   "mimetype": "text/x-python",
   "name": "python",
   "nbconvert_exporter": "python",
   "pygments_lexer": "ipython3",
   "version": "3.6.6"
  }
 },
 "nbformat": 4,
 "nbformat_minor": 2
}
