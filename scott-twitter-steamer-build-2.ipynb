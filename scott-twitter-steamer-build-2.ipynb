{
 "cells": [
  {
   "cell_type": "code",
   "execution_count": null,
   "metadata": {
    "collapsed": true
   },
   "outputs": [],
   "source": [
    "from tweepy import API\n",
    "from tweepy import OAuthHandler\n",
    "from tweepy import Stream\n",
    "from tweepy import StreamListener\n",
    "import csv"
   ]
  },
  {
   "cell_type": "code",
   "execution_count": null,
   "metadata": {
    "collapsed": true
   },
   "outputs": [],
   "source": [
    "import config # config.py contains values for consumer and access variables\n",
    "consumer_key = config.twitter_anidata_consumer_key\n",
    "consumer_secret = config.twitter_anidata_consumer_secret\n",
    "access_token = config.twitter_anidata_access_token\n",
    "access_token_secret = config.twitter_anidata_access_token_secret"
   ]
  },
  {
   "cell_type": "code",
   "execution_count": null,
   "metadata": {
    "collapsed": true
   },
   "outputs": [],
   "source": [
    "class TwitterAuthenticator():\n",
    "    \n",
    "    def authenticate_twitter_app(self):\n",
    "        auth = OAuthHandler(consumer_key, consumer_secret)        # Create an OAuthHandler instance\n",
    "        auth.set_access_token(access_token, access_token_secret)  # Set access token and secret\n",
    "        return auth"
   ]
  },
  {
   "cell_type": "code",
   "execution_count": null,
   "metadata": {},
   "outputs": [],
   "source": [
    "class TwitterListener(StreamListener):\n",
    "       \n",
    "    def on_status(self, status):\n",
    "        status.text = status.text.replace('\\n', ' ')\n",
    "        print(status.text)\n",
    "        file = open(csv_file, 'a', encoding=\"UTF-8\", newline='')\n",
    "        csvWriter = csv.writer(file)\n",
    "        csvWriter.writerow([status.text])"
   ]
  },
  {
   "cell_type": "code",
   "execution_count": null,
   "metadata": {
    "collapsed": true
   },
   "outputs": [],
   "source": [
    "class TwitterStreamer():\n",
    "    \n",
    "    def __init__(self):\n",
    "        self.twitter_authenticator = TwitterAuthenticator()\n",
    "    \n",
    "    def stream_tweets(self, search_terms, csv_file):\n",
    "        \n",
    "        listener = TwitterListener()\n",
    "        auth = self.twitter_authenticator.authenticate_twitter_app()\n",
    "        stream = Stream(auth, listener)\n",
    "        \n",
    "        stream.filter(track=search_terms)"
   ]
  },
  {
   "cell_type": "code",
   "execution_count": null,
   "metadata": {},
   "outputs": [],
   "source": [
    "if __name__ == \"__main__\":\n",
    "    \n",
    "    search_terms = ['atlanta', 'social good']\n",
    "    csv_file = \"tweets.csv\"\n",
    "    twitter_streamer = TwitterStreamer()\n",
    "    twitter_streamer.stream_tweets(search_terms, csv_file)"
   ]
  },
  {
   "cell_type": "code",
   "execution_count": null,
   "metadata": {
    "collapsed": true
   },
   "outputs": [],
   "source": []
  }
 ],
 "metadata": {
  "kernelspec": {
   "display_name": "Python 3",
   "language": "python",
   "name": "python3"
  },
  "language_info": {
   "codemirror_mode": {
    "name": "ipython",
    "version": 3
   },
   "file_extension": ".py",
   "mimetype": "text/x-python",
   "name": "python",
   "nbconvert_exporter": "python",
   "pygments_lexer": "ipython3",
   "version": "3.6.6"
  }
 },
 "nbformat": 4,
 "nbformat_minor": 2
}
